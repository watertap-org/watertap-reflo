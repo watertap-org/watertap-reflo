{
 "cells": [
  {
   "cell_type": "markdown",
   "metadata": {
    "rise": {
     "theme": "sky"
    }
   },
   "source": [
    "<a href='https://jupyter.org/'>Jupyter Notebook 2</a>"
   ]
  },
  {
   "cell_type": "markdown",
   "metadata": {
    "slideshow": {
     "slide_type": "slide"
    }
   },
   "source": [
    "### ADVANCED PSE+ STAKEHOLDER SUMMIT I 2023: \n",
    "### Interactive Code Demonstration Using WaterTAP\n",
    "\n",
    "#### Today's demonstration will show how to build, initialize, simulate, and optimize a flowsheet for multiperiod analysis."
   ]
  },
  {
   "cell_type": "markdown",
   "metadata": {
    "slideshow": {
     "slide_type": "slide"
    }
   },
   "source": [
    "## Overall approach to multiperiod flowsheets\n",
    "<p align=\"center\">\n",
    "  <img src=\"assets/MP_Framework.png\" width=\"80%\">\n",
    "</p>"
   ]
  },
  {
   "cell_type": "markdown",
   "metadata": {
    "slideshow": {
     "slide_type": "slide"
    }
   },
   "source": [
    "## Part 1: Build, setup, and simulate the multiperiod RO+PV+Battery flowsheet"
   ]
  },
  {
   "cell_type": "markdown",
   "metadata": {
    "slideshow": {
     "slide_type": "fragment"
    }
   },
   "source": [
    "<p align=\"center\">\n",
    "  <img src=\"assets/RO_PV_Batt.svg\" width=\"80%\">\n",
    "</p>"
   ]
  },
  {
   "cell_type": "markdown",
   "metadata": {
    "slideshow": {
     "slide_type": "slide"
    }
   },
   "source": [
    "## Multiperiod Setup\n",
    "\n",
    "### Quick and high-level overview of setting up steady-state and surrogate parts\n",
    "### Import Pyomo, IDAES, and WaterTAP packages"
   ]
  },
  {
   "cell_type": "code",
   "execution_count": 1,
   "metadata": {
    "slideshow": {
     "slide_type": "fragment"
    }
   },
   "outputs": [],
   "source": [
    "# Pyomo imports\n",
    "from pyomo.environ import ConcreteModel, Objective, Var, value, units as pyunits\n",
    "\n",
    "# IDAES imports\n",
    "from idaes.core import FlowsheetBlock\n",
    "from idaes.apps.grid_integration.multiperiod.multiperiod import MultiPeriodModel\n",
    "from idaes.core.solvers.get_solver import get_solver\n"
   ]
  },
  {
   "cell_type": "markdown",
   "metadata": {},
   "source": []
  },
  {
   "cell_type": "markdown",
   "metadata": {
    "slideshow": {
     "slide_type": "subslide"
    }
   },
   "source": [
    "### Build Model"
   ]
  },
  {
   "cell_type": "code",
   "execution_count": 2,
   "metadata": {
    "slideshow": {
     "slide_type": "fragment"
    }
   },
   "outputs": [],
   "source": [
    "m = ConcreteModel()\n",
    "m.fs = FlowsheetBlock(dynamic=False)"
   ]
  },
  {
   "cell_type": "markdown",
   "metadata": {
    "slideshow": {
     "slide_type": "subslide"
    }
   },
   "source": [
    "### Import and define the Reverse Osmosis unit model"
   ]
  },
  {
   "cell_type": "code",
   "execution_count": 3,
   "metadata": {
    "slideshow": {
     "slide_type": "fragment"
    }
   },
   "outputs": [],
   "source": [
    "# from steady_state_flowsheets.simple_RO_unit import ROUnit\n",
    "# m.fs.RO = ROUnit()"
   ]
  },
  {
   "cell_type": "code",
   "execution_count": 4,
   "metadata": {},
   "outputs": [
    {
     "name": "stdout",
     "output_type": "stream",
     "text": [
      "\n",
      "            =======> BUILDING RO SYSTEM <=======            \n",
      "\n",
      "WARNING: Implicitly replacing the Component attribute power_demand\n",
      "    (type=<class 'pyomo.core.base.expression.ScalarExpression'>) on block\n",
      "    fs.RO with a new Component (type=<class\n",
      "    'pyomo.core.base.expression.ScalarExpression'>). This is usually\n",
      "    indicative of a modelling error. To avoid this warning, use\n",
      "    block.del_component() and block.add_component().\n",
      "\n",
      "       =======> SETTING OPERATING CONDITIONS <=======       \n",
      "\n",
      "2023-12-19 16:50:33 [WARNING] idaes.core.util.scaling: Missing scaling factor for fs.RO.feed.properties[0.0].flow_mass_phase_comp[Liq,H2O]\n",
      "2023-12-19 16:50:33 [WARNING] idaes.core.util.scaling: Missing scaling factor for fs.RO.feed.properties[0.0].flow_mass_phase_comp[Liq,NaCl]\n",
      "2023-12-19 16:50:33 [WARNING] idaes.core.util.scaling: Missing scaling factor for fs.RO.product.properties[0.0].flow_mass_phase_comp[Liq,H2O]\n",
      "2023-12-19 16:50:33 [WARNING] idaes.core.util.scaling: Missing scaling factor for fs.RO.product.properties[0.0].flow_mass_phase_comp[Liq,NaCl]\n",
      "2023-12-19 16:50:33 [WARNING] idaes.core.util.scaling: Missing scaling factor for fs.RO.disposal.properties[0.0].flow_mass_phase_comp[Liq,H2O]\n",
      "2023-12-19 16:50:33 [WARNING] idaes.core.util.scaling: Missing scaling factor for fs.RO.disposal.properties[0.0].flow_mass_phase_comp[Liq,NaCl]\n",
      "2023-12-19 16:50:33 [WARNING] idaes.core.util.scaling: Missing scaling factor for fs.RO.primary_mixer.inlet_1_state[0.0].flow_mass_phase_comp[Liq,H2O]\n",
      "2023-12-19 16:50:33 [WARNING] idaes.core.util.scaling: Missing scaling factor for fs.RO.primary_mixer.inlet_1_state[0.0].flow_mass_phase_comp[Liq,NaCl]\n",
      "2023-12-19 16:50:33 [WARNING] idaes.core.util.scaling: Missing scaling factor for fs.RO.primary_mixer.mixed_state[0.0].flow_mass_phase_comp[Liq,H2O]\n",
      "2023-12-19 16:50:33 [WARNING] idaes.core.util.scaling: Missing scaling factor for fs.RO.primary_mixer.mixed_state[0.0].flow_mass_phase_comp[Liq,NaCl]\n"
     ]
    },
    {
     "data": {
      "text/plain": [
       "<pyomo.core.base.PyomoModel.ConcreteModel at 0x2887210d0>"
      ]
     },
     "execution_count": 4,
     "metadata": {},
     "output_type": "execute_result"
    }
   ],
   "source": [
    "from watertap_contrib.reflo.code_demos.steady_state_flowsheets.ro_system import *\n",
    "from watertap.property_models.NaCl_prop_pack import NaClParameterBlock\n",
    "from watertap.costing import WaterTAPCosting\n",
    "\n",
    "m.fs.properties = NaClParameterBlock()\n",
    "m.fs.RO = FlowsheetBlock(dynamic=False)\n",
    "build_system(m)\n",
    "# build_ro(m, m.fs.RO, number_of_stages=1)\n",
    "# add_connections(m)\n",
    "# add_constraints(m)\n",
    "# set_ro_scaling_and_params(m)\n",
    "# set_operating_conditions(m)"
   ]
  },
  {
   "cell_type": "markdown",
   "metadata": {
    "slideshow": {
     "slide_type": "fragment"
    }
   },
   "source": [
    "### This simple RO unit will assume a steady-state system with constant production and power demand\n",
    "        ROUnit.product = 6000 # m3/day\n",
    "        ROUnit.power_demand = 1 # MW"
   ]
  },
  {
   "cell_type": "markdown",
   "metadata": {
    "slideshow": {
     "slide_type": "subslide"
    }
   },
   "source": [
    "### Import and define the Battery model"
   ]
  },
  {
   "cell_type": "code",
   "execution_count": 5,
   "metadata": {
    "slideshow": {
     "slide_type": "fragment"
    }
   },
   "outputs": [],
   "source": [
    "from watertap_contrib.reflo.code_demos.steady_state_flowsheets.battery import BatteryStorage \n",
    "# From DISPATCHES \n",
    "m.fs.battery = BatteryStorage()"
   ]
  },
  {
   "cell_type": "markdown",
   "metadata": {
    "slideshow": {
     "slide_type": "fragment"
    }
   },
   "source": [
    "<p align=\"center\">\n",
    "  <img src=\"assets/var_table.png\" width=\"70%\">\n",
    "</p>"
   ]
  },
  {
   "cell_type": "markdown",
   "metadata": {
    "slideshow": {
     "slide_type": "subslide"
    }
   },
   "source": [
    "### Load PV surrogate"
   ]
  },
  {
   "cell_type": "code",
   "execution_count": 6,
   "metadata": {
    "slideshow": {
     "slide_type": "fragment"
    }
   },
   "outputs": [
    {
     "name": "stdout",
     "output_type": "stream",
     "text": [
      "2023-12-19 16:50:33 [INFO] idaes.core.surrogate.pysmo_surrogate: Decode surrogate. type=rbf\n",
      "Default parameter estimation method is used.\n",
      "\n",
      "Parameter estimation method:  algebraic\n",
      "Gaussian basis function is used.\n",
      "Basis function:  gaussian\n",
      "Regularization done:  True\n"
     ]
    }
   ],
   "source": [
    "from idaes.core.surrogate.pysmo_surrogate import PysmoSurrogate\n",
    "PV_surrogate = PysmoSurrogate.load_from_file('assets/demo_surrogate.json')"
   ]
  },
  {
   "cell_type": "markdown",
   "metadata": {
    "slideshow": {
     "slide_type": "fragment"
    }
   },
   "source": [
    "<p align=\"center\">\n",
    "  <img src=\"assets/solar_cycle2.png\" width=\"50%\">\n",
    "</p>\n",
    "\n",
    "##### The PV surrogate will predict the energy production of a given PV system based on:\n",
    "* PV system design size [kW] (peak power )\n",
    "* Day of the year\n",
    "* Hour of the Day"
   ]
  },
  {
   "cell_type": "markdown",
   "metadata": {
    "slideshow": {
     "slide_type": "subslide"
    }
   },
   "source": [
    "### Define critical variables and add energy balance constraints in one time step/ steady-state conditions"
   ]
  },
  {
   "cell_type": "code",
   "execution_count": 7,
   "metadata": {
    "slideshow": {
     "slide_type": "fragment"
    }
   },
   "outputs": [],
   "source": [
    "from watertap_contrib.reflo.code_demos.steady_state_flowsheets.system import *\n",
    "define_system_vars(m)\n",
    "add_steady_state_constraints(m)"
   ]
  },
  {
   "cell_type": "markdown",
   "metadata": {
    "slideshow": {
     "slide_type": "subslide"
    }
   },
   "source": [
    "### System-level variables include:\n",
    "| Var                       | Description                                    | Unit |\n",
    "| :----:                    | :----:                                    |:----:|\n",
    "| pv_to_ro           | Energy supplied to the RO coming from PV | kW  |\n",
    "| grid_to_ro          | Energy supplied to the RO coming from grid | kW |\n",
    "| curtailment   | PV curtailment                 | kW |\n",
    "| elec_price                   | Electricity Price                                 | $/kWh  |\n",
    "| pv_gen                   | Energy in                                 | kWh  |\n",
    "\n",
    "### The steady state constraints:\n",
    "\n",
    "<p align=\"center\">\n",
    "  <img src=\"assets/Balance_dark.png\" width=\"80%\">\n",
    "  <img src=\"assets/constraint_dark.png\" width=\"80%\">\n",
    "</p>"
   ]
  },
  {
   "cell_type": "markdown",
   "metadata": {
    "slideshow": {
     "slide_type": "subslide"
    }
   },
   "source": [
    "### Let's fix a few variables for this initial solve"
   ]
  },
  {
   "cell_type": "code",
   "execution_count": 8,
   "metadata": {
    "slideshow": {
     "slide_type": "fragment"
    }
   },
   "outputs": [],
   "source": [
    "m.fs.battery.nameplate_energy.fix(8000) # Battery capacity [kWh]\n",
    "m.fs.battery.nameplate_power.fix(400) # Battery power [kW]\n",
    "m.fs.pv_gen.fix(700) # PV generation [kW]"
   ]
  },
  {
   "cell_type": "code",
   "execution_count": 9,
   "metadata": {
    "slideshow": {
     "slide_type": "subslide"
    }
   },
   "outputs": [
    {
     "name": "stdout",
     "output_type": "stream",
     "text": [
      "\n",
      "\n",
      "-------------------- INITIALIZING SYSTEM --------------------\n",
      "\n",
      "\n",
      "2023-12-19 16:50:33 [INFO] idaes.init.fs.feed: Initialization Complete.\n",
      "2023-12-19 16:50:33 [INFO] idaes.init.fs.primary_pump.control_volume: Initialization Complete\n",
      "2023-12-19 16:50:33 [INFO] idaes.init.fs.primary_pump: Initialization Complete: optimal - Optimal Solution Found\n",
      "\n",
      "\n",
      "-------------------- INITIALIZING RO SYSTEM --------------------\n",
      "\n",
      "\n",
      "2023-12-19 16:50:33 [INFO] idaes.init.fs.RO.feed: Initialization Step Complete.\n",
      "2023-12-19 16:50:33 [INFO] idaes.init.fs.RO.stage[1].feed: Initialization Step Complete.\n",
      "2023-12-19 16:50:33 [INFO] idaes.init.fs.RO.stage[1].module.feed_side: Initialization Complete\n",
      "2023-12-19 16:50:34 [INFO] idaes.init.fs.RO.stage[1].module: Initialization Complete: optimal - Optimal Solution Found\n",
      "2023-12-19 16:50:34 [INFO] idaes.init.fs.RO.stage[1].permeate: Initialization Step Complete.\n",
      "2023-12-19 16:50:34 [INFO] idaes.init.fs.RO.stage[1].retentate: Initialization Step Complete.\n",
      "2023-12-19 16:50:34 [INFO] idaes.init.fs.RO.disposal: Initialization Step Complete.\n",
      "2023-12-19 16:50:34 [INFO] idaes.init.fs.RO.primary_mixer: Initialization Complete: optimal - Optimal Solution Found\n",
      "2023-12-19 16:50:34 [INFO] idaes.init.fs.RO.product: Initialization Step Complete.\n",
      "\n",
      "\n",
      "-------------------- RO INITIALIZATION COMPLETE --------------------\n",
      "\n",
      "\n",
      "2023-12-19 16:50:34 [INFO] idaes.init.fs.product: Initialization Complete.\n",
      "2023-12-19 16:50:34 [INFO] idaes.init.fs.disposal: Initialization Complete.\n",
      "2023-12-19 16:50:34 [INFO] idaes.init.fs.battery: Battery initialization status optimal - Optimal Solution Found.\n",
      "WARNING: model contains export suffix\n",
      "    'fs.primary_pump.control_volume.properties_out[0.0].scaling_factor' that\n",
      "    contains 3 component keys that are not exported as part of the NL file.\n",
      "    Skipping.\n",
      "WARNING: model contains export suffix\n",
      "    'fs.primary_pump.control_volume.properties_in[0.0].scaling_factor' that\n",
      "    contains 1 component keys that are not exported as part of the NL file.\n",
      "    Skipping.\n",
      "WARNING: model contains export suffix 'fs.primary_pump.scaling_factor' that\n",
      "    contains 1 component keys that are not exported as part of the NL file.\n",
      "    Skipping.\n",
      "WARNING: model contains export suffix\n",
      "    'fs.product.properties[0.0].scaling_factor' that contains 1 component keys\n",
      "    that are not exported as part of the NL file.  Skipping.\n",
      "WARNING: model contains export suffix 'fs.feed.properties[0.0].scaling_factor'\n",
      "    that contains 3 component keys that are not exported as part of the NL\n",
      "    file.  Skipping.\n",
      "WARNING: model contains export suffix\n",
      "    'fs.RO.stage[1].module.mixed_permeate[0.0].scaling_factor' that contains 1\n",
      "    component keys that are not exported as part of the NL file.  Skipping.\n",
      "WARNING: model contains export suffix\n",
      "    'fs.RO.stage[1].module.permeate_side[0.0,0.0].scaling_factor' that\n",
      "    contains 2 component keys that are not exported as part of the NL file.\n",
      "    Skipping.\n",
      "WARNING: model contains export suffix\n",
      "    'fs.RO.stage[1].module.feed_side.properties_interface[0.0,0.0].scaling_fac\n",
      "    tor' that contains 4 component keys that are not exported as part of the\n",
      "    NL file.  Skipping.\n",
      "WARNING: model contains export suffix\n",
      "    'fs.RO.stage[1].module.feed_side.scaling_factor' that contains 9 component\n",
      "    keys that are not exported as part of the NL file.  Skipping.\n",
      "WARNING: model contains export suffix 'fs.RO.stage[1].module.scaling_factor'\n",
      "    that contains 7 component keys that are not exported as part of the NL\n",
      "    file.  Skipping.\n",
      "WARNING: model contains export suffix\n",
      "    'fs.RO.primary_mixer.mixed_state[0.0].scaling_factor' that contains 1\n",
      "    component keys that are not exported as part of the NL file.  Skipping.\n",
      "WARNING: model contains export suffix\n",
      "    'fs.RO.primary_mixer.inlet_1_state[0.0].scaling_factor' that contains 1\n",
      "    component keys that are not exported as part of the NL file.  Skipping.\n",
      "WARNING: model contains export suffix 'fs.RO.properties.scaling_factor' that\n",
      "    contains 4 component keys that are not exported as part of the NL file.\n",
      "    Skipping.\n",
      "WARNING: model contains export suffix 'fs.properties.scaling_factor' that\n",
      "    contains 4 component keys that are not exported as part of the NL file.\n",
      "    Skipping.\n",
      "WARNING: model contains export suffix 'fs.scaling_factor' that contains 2\n",
      "    component keys that are not exported as part of the NL file.  Skipping.\n",
      "WARNING: model contains export suffix\n",
      "    'fs.primary_pump.control_volume.properties_out[0.0].scaling_factor' that\n",
      "    contains 3 component keys that are not exported as part of the NL file.\n",
      "    Skipping.\n",
      "WARNING: model contains export suffix\n",
      "    'fs.primary_pump.control_volume.properties_in[0.0].scaling_factor' that\n",
      "    contains 1 component keys that are not exported as part of the NL file.\n",
      "    Skipping.\n",
      "WARNING: model contains export suffix 'fs.primary_pump.scaling_factor' that\n",
      "    contains 1 component keys that are not exported as part of the NL file.\n",
      "    Skipping.\n",
      "WARNING: model contains export suffix\n",
      "    'fs.product.properties[0.0].scaling_factor' that contains 1 component keys\n",
      "    that are not exported as part of the NL file.  Skipping.\n",
      "WARNING: model contains export suffix 'fs.feed.properties[0.0].scaling_factor'\n",
      "    that contains 3 component keys that are not exported as part of the NL\n",
      "    file.  Skipping.\n",
      "WARNING: model contains export suffix\n",
      "    'fs.RO.stage[1].module.mixed_permeate[0.0].scaling_factor' that contains 1\n",
      "    component keys that are not exported as part of the NL file.  Skipping.\n",
      "WARNING: model contains export suffix\n",
      "    'fs.RO.stage[1].module.permeate_side[0.0,0.0].scaling_factor' that\n",
      "    contains 2 component keys that are not exported as part of the NL file.\n",
      "    Skipping.\n",
      "WARNING: model contains export suffix\n",
      "    'fs.RO.stage[1].module.feed_side.properties_interface[0.0,0.0].scaling_fac\n",
      "    tor' that contains 4 component keys that are not exported as part of the\n",
      "    NL file.  Skipping.\n",
      "WARNING: model contains export suffix\n",
      "    'fs.RO.stage[1].module.feed_side.scaling_factor' that contains 9 component\n",
      "    keys that are not exported as part of the NL file.  Skipping.\n",
      "WARNING: model contains export suffix 'fs.RO.stage[1].module.scaling_factor'\n",
      "    that contains 7 component keys that are not exported as part of the NL\n",
      "    file.  Skipping.\n",
      "WARNING: model contains export suffix\n",
      "    'fs.RO.primary_mixer.mixed_state[0.0].scaling_factor' that contains 1\n",
      "    component keys that are not exported as part of the NL file.  Skipping.\n",
      "WARNING: model contains export suffix\n",
      "    'fs.RO.primary_mixer.inlet_1_state[0.0].scaling_factor' that contains 1\n",
      "    component keys that are not exported as part of the NL file.  Skipping.\n",
      "WARNING: model contains export suffix 'fs.RO.properties.scaling_factor' that\n",
      "    contains 4 component keys that are not exported as part of the NL file.\n",
      "    Skipping.\n",
      "WARNING: model contains export suffix 'fs.properties.scaling_factor' that\n",
      "    contains 4 component keys that are not exported as part of the NL file.\n",
      "    Skipping.\n",
      "WARNING: model contains export suffix 'fs.scaling_factor' that contains 2\n",
      "    component keys that are not exported as part of the NL file.  Skipping.\n"
     ]
    }
   ],
   "source": [
    "solver = get_solver()\n",
    "init_system(m)\n",
    "m.fs.battery.initialize()\n",
    "results = solver.solve(m)"
   ]
  },
  {
   "cell_type": "code",
   "execution_count": 10,
   "metadata": {},
   "outputs": [
    {
     "name": "stdout",
     "output_type": "stream",
     "text": [
      "fs.water_recovery                        0.5        dimensionless\n",
      "fs.feed_salinity                         35.0       dimensionless\n",
      "fs.feed_flow_mass                        150.0      kg/s\n",
      "fs.perm_flow_mass                        1.0        kg/s\n",
      "fs.cross_flow_velocity                   0.2        m/s\n",
      "fs.pv_to_ro                              229.6      kW\n",
      "fs.grid_to_ro                            755.3      kW\n",
      "fs.curtailment                           328.9      kW\n",
      "fs.elec_generation                       1,000.0    kW\n",
      "fs.pv_gen                                700.0      kW\n",
      "fs.pv_size                               1,000.0    kW\n",
      "fs.ro_elec_req                           1,000.0    kW\n",
      "fs.electricity_price                     0.1        USD_2021\n"
     ]
    }
   ],
   "source": [
    "print_system_results(m)"
   ]
  },
  {
   "cell_type": "markdown",
   "metadata": {
    "slideshow": {
     "slide_type": "slide"
    }
   },
   "source": [
    "## Part 2: Build and Solve Multiperiod Flowsheet\n",
    "### Refresh - approach to multiperiod flowsheets\n",
    "<p align=\"center\">\n",
    "  <img src=\"assets/MP_Framework_2.png\" width=\"80%\">\n",
    "</p>"
   ]
  },
  {
   "cell_type": "markdown",
   "metadata": {
    "slideshow": {
     "slide_type": "slide"
    }
   },
   "source": [
    "### Link variables across time"
   ]
  },
  {
   "cell_type": "code",
   "execution_count": 11,
   "metadata": {
    "slideshow": {
     "slide_type": "fragment"
    }
   },
   "outputs": [],
   "source": [
    "def get_pv_ro_variable_pairs(t1, t2):\n",
    "    \"\"\"\n",
    "    This function returns pairs of variables that need to be connected across two time periods\n",
    "\n",
    "    Args:\n",
    "        t1: current time block\n",
    "        t2: next time block\n",
    "\n",
    "    Returns:\n",
    "        None\n",
    "    \"\"\"\n",
    "    return [\n",
    "        (t1.fs.battery.state_of_charge[0], t2.fs.battery.initial_state_of_charge),\n",
    "        (t1.fs.battery.energy_throughput[0], t2.fs.battery.initial_energy_throughput),\n",
    "        (t1.fs.battery.nameplate_power, t2.fs.battery.nameplate_power),\n",
    "        (t1.fs.battery.nameplate_energy, t2.fs.battery.nameplate_energy),\n",
    "        ]"
   ]
  },
  {
   "cell_type": "markdown",
   "metadata": {
    "slideshow": {
     "slide_type": "subslide"
    }
   },
   "source": [
    "<p align=\"center\">\n",
    "  <img src=\"assets/linking.png\" width=\"70%\">\n",
    "</p>"
   ]
  },
  {
   "cell_type": "markdown",
   "metadata": {
    "slideshow": {
     "slide_type": "subslide"
    }
   },
   "source": [
    "### Define multiperiod flowsheet and create each time instance"
   ]
  },
  {
   "cell_type": "markdown",
   "metadata": {
    "slideshow": {
     "slide_type": "fragment"
    }
   },
   "source": [
    "<p align=\"center\">\n",
    "  <img src=\"assets/Multiperiod.png\" width=\"100%\">\n",
    "</p>"
   ]
  },
  {
   "cell_type": "markdown",
   "metadata": {
    "slideshow": {
     "slide_type": "subslide"
    }
   },
   "source": [
    "### Provide some costing constraints"
   ]
  },
  {
   "cell_type": "markdown",
   "metadata": {
    "slideshow": {
     "slide_type": "fragment"
    }
   },
   "source": [
    "<p align=\"center\">\n",
    "<img src=\"assets/costing_constraints.png\" width=\"50%\">\n",
    "</p>"
   ]
  },
  {
   "cell_type": "code",
   "execution_count": 12,
   "metadata": {
    "slideshow": {
     "slide_type": "slide"
    }
   },
   "outputs": [],
   "source": [
    "def create_multiperiod_pv_battery_model(\n",
    "        n_time_points= 24,\n",
    "        surrogate = None):\n",
    "    \n",
    "    # create the multiperiod object\n",
    "    '''The `MultiPeriodModel` class helps transfer existing steady-state\n",
    "    process models to multiperiod versions that contain dynamic time coupling'''\n",
    "    mp = MultiPeriodModel(\n",
    "        n_time_points=n_time_points,\n",
    "        process_model_func= steady_state_flowsheet,\n",
    "        linking_variable_func= get_pv_ro_variable_pairs,\n",
    "        initialization_func= initialize_system,\n",
    "        unfix_dof_func= unfix_dof,\n",
    "    )\n",
    "\n",
    "    # process_model_func - This is our steady-state or single time instance flowsheet\n",
    "    # unfix_dof - This is where we fix or unfix battery size, power, etc...\n",
    "    # initialize_system - This is where we initialize the battery\n",
    "    \n",
    "    # Flowsheet options is where we define the input options for the steady-state flowsheet\n",
    "    flowsheet_options={ t: { \n",
    "                            \"pv_gen\": eval_surrogate(surrogate, design_size = 1000, Day = t//24, Hour = t%24),\n",
    "                            \"electricity_price\": get_elec_tier(Hour = t%24),} \n",
    "                            for t in range(n_time_points)\n",
    "    }\n",
    "\n",
    "    # Build a multi-period capable model using user-provided functions\n",
    "    mp.build_multi_period_model(\n",
    "        model_data_kwargs=flowsheet_options)\n",
    "    \n",
    "    # Fix the initial state of charge to zero\n",
    "    mp.blocks[0].process.fs.battery.initial_state_of_charge.fix(0)\n",
    "\n",
    "    # Set capital costs and the objective function that apply across all time periods\n",
    "    add_costing_constraints(mp)\n",
    "\n",
    "    # Total Costs = Battery Costs + PV Costs + RO Costs\n",
    "    # LCOW = Total Costs / RO Production [$/m3]\n",
    "\n",
    "    return mp"
   ]
  },
  {
   "cell_type": "markdown",
   "metadata": {
    "slideshow": {
     "slide_type": "slide"
    }
   },
   "source": [
    "## Simulation"
   ]
  },
  {
   "cell_type": "code",
   "execution_count": 13,
   "metadata": {
    "slideshow": {
     "slide_type": "fragment"
    }
   },
   "outputs": [
    {
     "name": "stdout",
     "output_type": "stream",
     "text": [
      "[+   0.00] Beginning the formulation of the multiperiod optimization problem.\n",
      "2023-12-19 16:50:35 [INFO] idaes.apps.grid_integration.multiperiod.multiperiod: ...Constructing the flowsheet model for blocks[0]\n",
      "\n",
      "            =======> BUILDING RO SYSTEM <=======            \n",
      "\n",
      "WARNING: Implicitly replacing the Component attribute power_demand\n",
      "    (type=<class 'pyomo.core.base.expression.ScalarExpression'>) on block\n",
      "    fs.RO with a new Component (type=<class\n",
      "    'pyomo.core.base.expression.ScalarExpression'>). This is usually\n",
      "    indicative of a modelling error. To avoid this warning, use\n",
      "    block.del_component() and block.add_component().\n",
      "\n",
      "       =======> SETTING OPERATING CONDITIONS <=======       \n",
      "\n",
      "2023-12-19 16:50:35 [WARNING] idaes.core.util.scaling: Missing scaling factor for fs.RO.feed.properties[0.0].flow_mass_phase_comp[Liq,H2O]\n",
      "2023-12-19 16:50:35 [WARNING] idaes.core.util.scaling: Missing scaling factor for fs.RO.feed.properties[0.0].flow_mass_phase_comp[Liq,NaCl]\n",
      "2023-12-19 16:50:35 [WARNING] idaes.core.util.scaling: Missing scaling factor for fs.RO.product.properties[0.0].flow_mass_phase_comp[Liq,H2O]\n",
      "2023-12-19 16:50:35 [WARNING] idaes.core.util.scaling: Missing scaling factor for fs.RO.product.properties[0.0].flow_mass_phase_comp[Liq,NaCl]\n",
      "2023-12-19 16:50:35 [WARNING] idaes.core.util.scaling: Missing scaling factor for fs.RO.disposal.properties[0.0].flow_mass_phase_comp[Liq,H2O]\n",
      "2023-12-19 16:50:35 [WARNING] idaes.core.util.scaling: Missing scaling factor for fs.RO.disposal.properties[0.0].flow_mass_phase_comp[Liq,NaCl]\n",
      "2023-12-19 16:50:35 [WARNING] idaes.core.util.scaling: Missing scaling factor for fs.RO.primary_mixer.inlet_1_state[0.0].flow_mass_phase_comp[Liq,H2O]\n",
      "2023-12-19 16:50:35 [WARNING] idaes.core.util.scaling: Missing scaling factor for fs.RO.primary_mixer.inlet_1_state[0.0].flow_mass_phase_comp[Liq,NaCl]\n",
      "2023-12-19 16:50:35 [WARNING] idaes.core.util.scaling: Missing scaling factor for fs.RO.primary_mixer.mixed_state[0.0].flow_mass_phase_comp[Liq,H2O]\n",
      "2023-12-19 16:50:35 [WARNING] idaes.core.util.scaling: Missing scaling factor for fs.RO.primary_mixer.mixed_state[0.0].flow_mass_phase_comp[Liq,NaCl]\n",
      "2023-12-19 16:50:35 [INFO] idaes.apps.grid_integration.multiperiod.multiperiod: ...Constructing the flowsheet model for blocks[1]\n",
      "\n",
      "            =======> BUILDING RO SYSTEM <=======            \n",
      "\n",
      "WARNING: Implicitly replacing the Component attribute power_demand\n",
      "    (type=<class 'pyomo.core.base.expression.ScalarExpression'>) on block\n",
      "    fs.RO with a new Component (type=<class\n",
      "    'pyomo.core.base.expression.ScalarExpression'>). This is usually\n",
      "    indicative of a modelling error. To avoid this warning, use\n",
      "    block.del_component() and block.add_component().\n",
      "\n",
      "       =======> SETTING OPERATING CONDITIONS <=======       \n",
      "\n",
      "2023-12-19 16:50:35 [WARNING] idaes.core.util.scaling: Missing scaling factor for fs.RO.feed.properties[0.0].flow_mass_phase_comp[Liq,H2O]\n",
      "2023-12-19 16:50:35 [WARNING] idaes.core.util.scaling: Missing scaling factor for fs.RO.feed.properties[0.0].flow_mass_phase_comp[Liq,NaCl]\n",
      "2023-12-19 16:50:35 [WARNING] idaes.core.util.scaling: Missing scaling factor for fs.RO.product.properties[0.0].flow_mass_phase_comp[Liq,H2O]\n",
      "2023-12-19 16:50:35 [WARNING] idaes.core.util.scaling: Missing scaling factor for fs.RO.product.properties[0.0].flow_mass_phase_comp[Liq,NaCl]\n",
      "2023-12-19 16:50:35 [WARNING] idaes.core.util.scaling: Missing scaling factor for fs.RO.disposal.properties[0.0].flow_mass_phase_comp[Liq,H2O]\n",
      "2023-12-19 16:50:35 [WARNING] idaes.core.util.scaling: Missing scaling factor for fs.RO.disposal.properties[0.0].flow_mass_phase_comp[Liq,NaCl]\n",
      "2023-12-19 16:50:35 [WARNING] idaes.core.util.scaling: Missing scaling factor for fs.RO.primary_mixer.inlet_1_state[0.0].flow_mass_phase_comp[Liq,H2O]\n",
      "2023-12-19 16:50:35 [WARNING] idaes.core.util.scaling: Missing scaling factor for fs.RO.primary_mixer.inlet_1_state[0.0].flow_mass_phase_comp[Liq,NaCl]\n",
      "2023-12-19 16:50:35 [WARNING] idaes.core.util.scaling: Missing scaling factor for fs.RO.primary_mixer.mixed_state[0.0].flow_mass_phase_comp[Liq,H2O]\n",
      "2023-12-19 16:50:35 [WARNING] idaes.core.util.scaling: Missing scaling factor for fs.RO.primary_mixer.mixed_state[0.0].flow_mass_phase_comp[Liq,NaCl]\n",
      "2023-12-19 16:50:35 [INFO] idaes.apps.grid_integration.multiperiod.multiperiod: ...Constructing the flowsheet model for blocks[2]\n",
      "\n",
      "            =======> BUILDING RO SYSTEM <=======            \n",
      "\n",
      "WARNING: Implicitly replacing the Component attribute power_demand\n",
      "    (type=<class 'pyomo.core.base.expression.ScalarExpression'>) on block\n",
      "    fs.RO with a new Component (type=<class\n",
      "    'pyomo.core.base.expression.ScalarExpression'>). This is usually\n",
      "    indicative of a modelling error. To avoid this warning, use\n",
      "    block.del_component() and block.add_component().\n",
      "\n",
      "       =======> SETTING OPERATING CONDITIONS <=======       \n",
      "\n",
      "2023-12-19 16:50:35 [WARNING] idaes.core.util.scaling: Missing scaling factor for fs.RO.feed.properties[0.0].flow_mass_phase_comp[Liq,H2O]\n",
      "2023-12-19 16:50:35 [WARNING] idaes.core.util.scaling: Missing scaling factor for fs.RO.feed.properties[0.0].flow_mass_phase_comp[Liq,NaCl]\n",
      "2023-12-19 16:50:35 [WARNING] idaes.core.util.scaling: Missing scaling factor for fs.RO.product.properties[0.0].flow_mass_phase_comp[Liq,H2O]\n",
      "2023-12-19 16:50:35 [WARNING] idaes.core.util.scaling: Missing scaling factor for fs.RO.product.properties[0.0].flow_mass_phase_comp[Liq,NaCl]\n",
      "2023-12-19 16:50:35 [WARNING] idaes.core.util.scaling: Missing scaling factor for fs.RO.disposal.properties[0.0].flow_mass_phase_comp[Liq,H2O]\n",
      "2023-12-19 16:50:35 [WARNING] idaes.core.util.scaling: Missing scaling factor for fs.RO.disposal.properties[0.0].flow_mass_phase_comp[Liq,NaCl]\n",
      "2023-12-19 16:50:35 [WARNING] idaes.core.util.scaling: Missing scaling factor for fs.RO.primary_mixer.inlet_1_state[0.0].flow_mass_phase_comp[Liq,H2O]\n",
      "2023-12-19 16:50:35 [WARNING] idaes.core.util.scaling: Missing scaling factor for fs.RO.primary_mixer.inlet_1_state[0.0].flow_mass_phase_comp[Liq,NaCl]\n",
      "2023-12-19 16:50:35 [WARNING] idaes.core.util.scaling: Missing scaling factor for fs.RO.primary_mixer.mixed_state[0.0].flow_mass_phase_comp[Liq,H2O]\n",
      "2023-12-19 16:50:35 [WARNING] idaes.core.util.scaling: Missing scaling factor for fs.RO.primary_mixer.mixed_state[0.0].flow_mass_phase_comp[Liq,NaCl]\n",
      "2023-12-19 16:50:35 [INFO] idaes.apps.grid_integration.multiperiod.multiperiod: ...Constructing the flowsheet model for blocks[3]\n",
      "\n",
      "            =======> BUILDING RO SYSTEM <=======            \n",
      "\n",
      "WARNING: Implicitly replacing the Component attribute power_demand\n",
      "    (type=<class 'pyomo.core.base.expression.ScalarExpression'>) on block\n",
      "    fs.RO with a new Component (type=<class\n",
      "    'pyomo.core.base.expression.ScalarExpression'>). This is usually\n",
      "    indicative of a modelling error. To avoid this warning, use\n",
      "    block.del_component() and block.add_component().\n",
      "\n",
      "       =======> SETTING OPERATING CONDITIONS <=======       \n",
      "\n",
      "2023-12-19 16:50:36 [WARNING] idaes.core.util.scaling: Missing scaling factor for fs.RO.feed.properties[0.0].flow_mass_phase_comp[Liq,H2O]\n",
      "2023-12-19 16:50:36 [WARNING] idaes.core.util.scaling: Missing scaling factor for fs.RO.feed.properties[0.0].flow_mass_phase_comp[Liq,NaCl]\n",
      "2023-12-19 16:50:36 [WARNING] idaes.core.util.scaling: Missing scaling factor for fs.RO.product.properties[0.0].flow_mass_phase_comp[Liq,H2O]\n",
      "2023-12-19 16:50:36 [WARNING] idaes.core.util.scaling: Missing scaling factor for fs.RO.product.properties[0.0].flow_mass_phase_comp[Liq,NaCl]\n",
      "2023-12-19 16:50:36 [WARNING] idaes.core.util.scaling: Missing scaling factor for fs.RO.disposal.properties[0.0].flow_mass_phase_comp[Liq,H2O]\n",
      "2023-12-19 16:50:36 [WARNING] idaes.core.util.scaling: Missing scaling factor for fs.RO.disposal.properties[0.0].flow_mass_phase_comp[Liq,NaCl]\n",
      "2023-12-19 16:50:36 [WARNING] idaes.core.util.scaling: Missing scaling factor for fs.RO.primary_mixer.inlet_1_state[0.0].flow_mass_phase_comp[Liq,H2O]\n",
      "2023-12-19 16:50:36 [WARNING] idaes.core.util.scaling: Missing scaling factor for fs.RO.primary_mixer.inlet_1_state[0.0].flow_mass_phase_comp[Liq,NaCl]\n",
      "2023-12-19 16:50:36 [WARNING] idaes.core.util.scaling: Missing scaling factor for fs.RO.primary_mixer.mixed_state[0.0].flow_mass_phase_comp[Liq,H2O]\n",
      "2023-12-19 16:50:36 [WARNING] idaes.core.util.scaling: Missing scaling factor for fs.RO.primary_mixer.mixed_state[0.0].flow_mass_phase_comp[Liq,NaCl]\n",
      "2023-12-19 16:50:36 [INFO] idaes.apps.grid_integration.multiperiod.multiperiod: ...Constructing the flowsheet model for blocks[4]\n",
      "\n",
      "            =======> BUILDING RO SYSTEM <=======            \n",
      "\n",
      "WARNING: Implicitly replacing the Component attribute power_demand\n",
      "    (type=<class 'pyomo.core.base.expression.ScalarExpression'>) on block\n",
      "    fs.RO with a new Component (type=<class\n",
      "    'pyomo.core.base.expression.ScalarExpression'>). This is usually\n",
      "    indicative of a modelling error. To avoid this warning, use\n",
      "    block.del_component() and block.add_component().\n",
      "\n",
      "       =======> SETTING OPERATING CONDITIONS <=======       \n",
      "\n",
      "2023-12-19 16:50:36 [WARNING] idaes.core.util.scaling: Missing scaling factor for fs.RO.feed.properties[0.0].flow_mass_phase_comp[Liq,H2O]\n",
      "2023-12-19 16:50:36 [WARNING] idaes.core.util.scaling: Missing scaling factor for fs.RO.feed.properties[0.0].flow_mass_phase_comp[Liq,NaCl]\n",
      "2023-12-19 16:50:36 [WARNING] idaes.core.util.scaling: Missing scaling factor for fs.RO.product.properties[0.0].flow_mass_phase_comp[Liq,H2O]\n",
      "2023-12-19 16:50:36 [WARNING] idaes.core.util.scaling: Missing scaling factor for fs.RO.product.properties[0.0].flow_mass_phase_comp[Liq,NaCl]\n",
      "2023-12-19 16:50:36 [WARNING] idaes.core.util.scaling: Missing scaling factor for fs.RO.disposal.properties[0.0].flow_mass_phase_comp[Liq,H2O]\n",
      "2023-12-19 16:50:36 [WARNING] idaes.core.util.scaling: Missing scaling factor for fs.RO.disposal.properties[0.0].flow_mass_phase_comp[Liq,NaCl]\n",
      "2023-12-19 16:50:36 [WARNING] idaes.core.util.scaling: Missing scaling factor for fs.RO.primary_mixer.inlet_1_state[0.0].flow_mass_phase_comp[Liq,H2O]\n",
      "2023-12-19 16:50:36 [WARNING] idaes.core.util.scaling: Missing scaling factor for fs.RO.primary_mixer.inlet_1_state[0.0].flow_mass_phase_comp[Liq,NaCl]\n",
      "2023-12-19 16:50:36 [WARNING] idaes.core.util.scaling: Missing scaling factor for fs.RO.primary_mixer.mixed_state[0.0].flow_mass_phase_comp[Liq,H2O]\n",
      "2023-12-19 16:50:36 [WARNING] idaes.core.util.scaling: Missing scaling factor for fs.RO.primary_mixer.mixed_state[0.0].flow_mass_phase_comp[Liq,NaCl]\n",
      "2023-12-19 16:50:36 [INFO] idaes.apps.grid_integration.multiperiod.multiperiod: ...Constructing the flowsheet model for blocks[5]\n",
      "\n",
      "            =======> BUILDING RO SYSTEM <=======            \n",
      "\n",
      "WARNING: Implicitly replacing the Component attribute power_demand\n",
      "    (type=<class 'pyomo.core.base.expression.ScalarExpression'>) on block\n",
      "    fs.RO with a new Component (type=<class\n",
      "    'pyomo.core.base.expression.ScalarExpression'>). This is usually\n",
      "    indicative of a modelling error. To avoid this warning, use\n",
      "    block.del_component() and block.add_component().\n",
      "\n",
      "       =======> SETTING OPERATING CONDITIONS <=======       \n",
      "\n",
      "2023-12-19 16:50:36 [WARNING] idaes.core.util.scaling: Missing scaling factor for fs.RO.feed.properties[0.0].flow_mass_phase_comp[Liq,H2O]\n",
      "2023-12-19 16:50:36 [WARNING] idaes.core.util.scaling: Missing scaling factor for fs.RO.feed.properties[0.0].flow_mass_phase_comp[Liq,NaCl]\n",
      "2023-12-19 16:50:36 [WARNING] idaes.core.util.scaling: Missing scaling factor for fs.RO.product.properties[0.0].flow_mass_phase_comp[Liq,H2O]\n",
      "2023-12-19 16:50:36 [WARNING] idaes.core.util.scaling: Missing scaling factor for fs.RO.product.properties[0.0].flow_mass_phase_comp[Liq,NaCl]\n",
      "2023-12-19 16:50:36 [WARNING] idaes.core.util.scaling: Missing scaling factor for fs.RO.disposal.properties[0.0].flow_mass_phase_comp[Liq,H2O]\n",
      "2023-12-19 16:50:36 [WARNING] idaes.core.util.scaling: Missing scaling factor for fs.RO.disposal.properties[0.0].flow_mass_phase_comp[Liq,NaCl]\n",
      "2023-12-19 16:50:36 [WARNING] idaes.core.util.scaling: Missing scaling factor for fs.RO.primary_mixer.inlet_1_state[0.0].flow_mass_phase_comp[Liq,H2O]\n",
      "2023-12-19 16:50:36 [WARNING] idaes.core.util.scaling: Missing scaling factor for fs.RO.primary_mixer.inlet_1_state[0.0].flow_mass_phase_comp[Liq,NaCl]\n",
      "2023-12-19 16:50:36 [WARNING] idaes.core.util.scaling: Missing scaling factor for fs.RO.primary_mixer.mixed_state[0.0].flow_mass_phase_comp[Liq,H2O]\n",
      "2023-12-19 16:50:36 [WARNING] idaes.core.util.scaling: Missing scaling factor for fs.RO.primary_mixer.mixed_state[0.0].flow_mass_phase_comp[Liq,NaCl]\n",
      "2023-12-19 16:50:36 [INFO] idaes.apps.grid_integration.multiperiod.multiperiod: ...Constructing the flowsheet model for blocks[6]\n",
      "\n",
      "            =======> BUILDING RO SYSTEM <=======            \n",
      "\n",
      "WARNING: Implicitly replacing the Component attribute power_demand\n",
      "    (type=<class 'pyomo.core.base.expression.ScalarExpression'>) on block\n",
      "    fs.RO with a new Component (type=<class\n",
      "    'pyomo.core.base.expression.ScalarExpression'>). This is usually\n",
      "    indicative of a modelling error. To avoid this warning, use\n",
      "    block.del_component() and block.add_component().\n",
      "\n",
      "       =======> SETTING OPERATING CONDITIONS <=======       \n",
      "\n",
      "2023-12-19 16:50:36 [WARNING] idaes.core.util.scaling: Missing scaling factor for fs.RO.feed.properties[0.0].flow_mass_phase_comp[Liq,H2O]\n",
      "2023-12-19 16:50:36 [WARNING] idaes.core.util.scaling: Missing scaling factor for fs.RO.feed.properties[0.0].flow_mass_phase_comp[Liq,NaCl]\n",
      "2023-12-19 16:50:36 [WARNING] idaes.core.util.scaling: Missing scaling factor for fs.RO.product.properties[0.0].flow_mass_phase_comp[Liq,H2O]\n",
      "2023-12-19 16:50:36 [WARNING] idaes.core.util.scaling: Missing scaling factor for fs.RO.product.properties[0.0].flow_mass_phase_comp[Liq,NaCl]\n",
      "2023-12-19 16:50:36 [WARNING] idaes.core.util.scaling: Missing scaling factor for fs.RO.disposal.properties[0.0].flow_mass_phase_comp[Liq,H2O]\n",
      "2023-12-19 16:50:36 [WARNING] idaes.core.util.scaling: Missing scaling factor for fs.RO.disposal.properties[0.0].flow_mass_phase_comp[Liq,NaCl]\n",
      "2023-12-19 16:50:36 [WARNING] idaes.core.util.scaling: Missing scaling factor for fs.RO.primary_mixer.inlet_1_state[0.0].flow_mass_phase_comp[Liq,H2O]\n",
      "2023-12-19 16:50:36 [WARNING] idaes.core.util.scaling: Missing scaling factor for fs.RO.primary_mixer.inlet_1_state[0.0].flow_mass_phase_comp[Liq,NaCl]\n",
      "2023-12-19 16:50:36 [WARNING] idaes.core.util.scaling: Missing scaling factor for fs.RO.primary_mixer.mixed_state[0.0].flow_mass_phase_comp[Liq,H2O]\n",
      "2023-12-19 16:50:36 [WARNING] idaes.core.util.scaling: Missing scaling factor for fs.RO.primary_mixer.mixed_state[0.0].flow_mass_phase_comp[Liq,NaCl]\n",
      "2023-12-19 16:50:36 [INFO] idaes.apps.grid_integration.multiperiod.multiperiod: ...Constructing the flowsheet model for blocks[7]\n",
      "\n",
      "            =======> BUILDING RO SYSTEM <=======            \n",
      "\n",
      "WARNING: Implicitly replacing the Component attribute power_demand\n",
      "    (type=<class 'pyomo.core.base.expression.ScalarExpression'>) on block\n",
      "    fs.RO with a new Component (type=<class\n",
      "    'pyomo.core.base.expression.ScalarExpression'>). This is usually\n",
      "    indicative of a modelling error. To avoid this warning, use\n",
      "    block.del_component() and block.add_component().\n",
      "\n",
      "       =======> SETTING OPERATING CONDITIONS <=======       \n",
      "\n",
      "2023-12-19 16:50:36 [WARNING] idaes.core.util.scaling: Missing scaling factor for fs.RO.feed.properties[0.0].flow_mass_phase_comp[Liq,H2O]\n",
      "2023-12-19 16:50:36 [WARNING] idaes.core.util.scaling: Missing scaling factor for fs.RO.feed.properties[0.0].flow_mass_phase_comp[Liq,NaCl]\n",
      "2023-12-19 16:50:36 [WARNING] idaes.core.util.scaling: Missing scaling factor for fs.RO.product.properties[0.0].flow_mass_phase_comp[Liq,H2O]\n",
      "2023-12-19 16:50:36 [WARNING] idaes.core.util.scaling: Missing scaling factor for fs.RO.product.properties[0.0].flow_mass_phase_comp[Liq,NaCl]\n",
      "2023-12-19 16:50:36 [WARNING] idaes.core.util.scaling: Missing scaling factor for fs.RO.disposal.properties[0.0].flow_mass_phase_comp[Liq,H2O]\n",
      "2023-12-19 16:50:36 [WARNING] idaes.core.util.scaling: Missing scaling factor for fs.RO.disposal.properties[0.0].flow_mass_phase_comp[Liq,NaCl]\n",
      "2023-12-19 16:50:36 [WARNING] idaes.core.util.scaling: Missing scaling factor for fs.RO.primary_mixer.inlet_1_state[0.0].flow_mass_phase_comp[Liq,H2O]\n",
      "2023-12-19 16:50:36 [WARNING] idaes.core.util.scaling: Missing scaling factor for fs.RO.primary_mixer.inlet_1_state[0.0].flow_mass_phase_comp[Liq,NaCl]\n",
      "2023-12-19 16:50:36 [WARNING] idaes.core.util.scaling: Missing scaling factor for fs.RO.primary_mixer.mixed_state[0.0].flow_mass_phase_comp[Liq,H2O]\n",
      "2023-12-19 16:50:36 [WARNING] idaes.core.util.scaling: Missing scaling factor for fs.RO.primary_mixer.mixed_state[0.0].flow_mass_phase_comp[Liq,NaCl]\n",
      "2023-12-19 16:50:36 [INFO] idaes.apps.grid_integration.multiperiod.multiperiod: ...Constructing the flowsheet model for blocks[8]\n",
      "\n",
      "            =======> BUILDING RO SYSTEM <=======            \n",
      "\n",
      "WARNING: Implicitly replacing the Component attribute power_demand\n",
      "    (type=<class 'pyomo.core.base.expression.ScalarExpression'>) on block\n",
      "    fs.RO with a new Component (type=<class\n",
      "    'pyomo.core.base.expression.ScalarExpression'>). This is usually\n",
      "    indicative of a modelling error. To avoid this warning, use\n",
      "    block.del_component() and block.add_component().\n",
      "\n",
      "       =======> SETTING OPERATING CONDITIONS <=======       \n",
      "\n",
      "2023-12-19 16:50:36 [WARNING] idaes.core.util.scaling: Missing scaling factor for fs.RO.feed.properties[0.0].flow_mass_phase_comp[Liq,H2O]\n",
      "2023-12-19 16:50:36 [WARNING] idaes.core.util.scaling: Missing scaling factor for fs.RO.feed.properties[0.0].flow_mass_phase_comp[Liq,NaCl]\n",
      "2023-12-19 16:50:36 [WARNING] idaes.core.util.scaling: Missing scaling factor for fs.RO.product.properties[0.0].flow_mass_phase_comp[Liq,H2O]\n",
      "2023-12-19 16:50:36 [WARNING] idaes.core.util.scaling: Missing scaling factor for fs.RO.product.properties[0.0].flow_mass_phase_comp[Liq,NaCl]\n",
      "2023-12-19 16:50:36 [WARNING] idaes.core.util.scaling: Missing scaling factor for fs.RO.disposal.properties[0.0].flow_mass_phase_comp[Liq,H2O]\n",
      "2023-12-19 16:50:36 [WARNING] idaes.core.util.scaling: Missing scaling factor for fs.RO.disposal.properties[0.0].flow_mass_phase_comp[Liq,NaCl]\n",
      "2023-12-19 16:50:36 [WARNING] idaes.core.util.scaling: Missing scaling factor for fs.RO.primary_mixer.inlet_1_state[0.0].flow_mass_phase_comp[Liq,H2O]\n",
      "2023-12-19 16:50:36 [WARNING] idaes.core.util.scaling: Missing scaling factor for fs.RO.primary_mixer.inlet_1_state[0.0].flow_mass_phase_comp[Liq,NaCl]\n",
      "2023-12-19 16:50:36 [WARNING] idaes.core.util.scaling: Missing scaling factor for fs.RO.primary_mixer.mixed_state[0.0].flow_mass_phase_comp[Liq,H2O]\n",
      "2023-12-19 16:50:36 [WARNING] idaes.core.util.scaling: Missing scaling factor for fs.RO.primary_mixer.mixed_state[0.0].flow_mass_phase_comp[Liq,NaCl]\n",
      "2023-12-19 16:50:37 [INFO] idaes.apps.grid_integration.multiperiod.multiperiod: ...Constructing the flowsheet model for blocks[9]\n",
      "\n",
      "            =======> BUILDING RO SYSTEM <=======            \n",
      "\n",
      "WARNING: Implicitly replacing the Component attribute power_demand\n",
      "    (type=<class 'pyomo.core.base.expression.ScalarExpression'>) on block\n",
      "    fs.RO with a new Component (type=<class\n",
      "    'pyomo.core.base.expression.ScalarExpression'>). This is usually\n",
      "    indicative of a modelling error. To avoid this warning, use\n",
      "    block.del_component() and block.add_component().\n",
      "\n",
      "       =======> SETTING OPERATING CONDITIONS <=======       \n",
      "\n",
      "2023-12-19 16:50:37 [WARNING] idaes.core.util.scaling: Missing scaling factor for fs.RO.feed.properties[0.0].flow_mass_phase_comp[Liq,H2O]\n",
      "2023-12-19 16:50:37 [WARNING] idaes.core.util.scaling: Missing scaling factor for fs.RO.feed.properties[0.0].flow_mass_phase_comp[Liq,NaCl]\n",
      "2023-12-19 16:50:37 [WARNING] idaes.core.util.scaling: Missing scaling factor for fs.RO.product.properties[0.0].flow_mass_phase_comp[Liq,H2O]\n",
      "2023-12-19 16:50:37 [WARNING] idaes.core.util.scaling: Missing scaling factor for fs.RO.product.properties[0.0].flow_mass_phase_comp[Liq,NaCl]\n",
      "2023-12-19 16:50:37 [WARNING] idaes.core.util.scaling: Missing scaling factor for fs.RO.disposal.properties[0.0].flow_mass_phase_comp[Liq,H2O]\n",
      "2023-12-19 16:50:37 [WARNING] idaes.core.util.scaling: Missing scaling factor for fs.RO.disposal.properties[0.0].flow_mass_phase_comp[Liq,NaCl]\n",
      "2023-12-19 16:50:37 [WARNING] idaes.core.util.scaling: Missing scaling factor for fs.RO.primary_mixer.inlet_1_state[0.0].flow_mass_phase_comp[Liq,H2O]\n",
      "2023-12-19 16:50:37 [WARNING] idaes.core.util.scaling: Missing scaling factor for fs.RO.primary_mixer.inlet_1_state[0.0].flow_mass_phase_comp[Liq,NaCl]\n",
      "2023-12-19 16:50:37 [WARNING] idaes.core.util.scaling: Missing scaling factor for fs.RO.primary_mixer.mixed_state[0.0].flow_mass_phase_comp[Liq,H2O]\n",
      "2023-12-19 16:50:37 [WARNING] idaes.core.util.scaling: Missing scaling factor for fs.RO.primary_mixer.mixed_state[0.0].flow_mass_phase_comp[Liq,NaCl]\n",
      "2023-12-19 16:50:37 [INFO] idaes.apps.grid_integration.multiperiod.multiperiod: ...Constructing the flowsheet model for blocks[10]\n",
      "\n",
      "            =======> BUILDING RO SYSTEM <=======            \n",
      "\n",
      "WARNING: Implicitly replacing the Component attribute power_demand\n",
      "    (type=<class 'pyomo.core.base.expression.ScalarExpression'>) on block\n",
      "    fs.RO with a new Component (type=<class\n",
      "    'pyomo.core.base.expression.ScalarExpression'>). This is usually\n",
      "    indicative of a modelling error. To avoid this warning, use\n",
      "    block.del_component() and block.add_component().\n",
      "\n",
      "       =======> SETTING OPERATING CONDITIONS <=======       \n",
      "\n",
      "2023-12-19 16:50:37 [WARNING] idaes.core.util.scaling: Missing scaling factor for fs.RO.feed.properties[0.0].flow_mass_phase_comp[Liq,H2O]\n",
      "2023-12-19 16:50:37 [WARNING] idaes.core.util.scaling: Missing scaling factor for fs.RO.feed.properties[0.0].flow_mass_phase_comp[Liq,NaCl]\n",
      "2023-12-19 16:50:37 [WARNING] idaes.core.util.scaling: Missing scaling factor for fs.RO.product.properties[0.0].flow_mass_phase_comp[Liq,H2O]\n",
      "2023-12-19 16:50:37 [WARNING] idaes.core.util.scaling: Missing scaling factor for fs.RO.product.properties[0.0].flow_mass_phase_comp[Liq,NaCl]\n",
      "2023-12-19 16:50:37 [WARNING] idaes.core.util.scaling: Missing scaling factor for fs.RO.disposal.properties[0.0].flow_mass_phase_comp[Liq,H2O]\n",
      "2023-12-19 16:50:37 [WARNING] idaes.core.util.scaling: Missing scaling factor for fs.RO.disposal.properties[0.0].flow_mass_phase_comp[Liq,NaCl]\n",
      "2023-12-19 16:50:37 [WARNING] idaes.core.util.scaling: Missing scaling factor for fs.RO.primary_mixer.inlet_1_state[0.0].flow_mass_phase_comp[Liq,H2O]\n",
      "2023-12-19 16:50:37 [WARNING] idaes.core.util.scaling: Missing scaling factor for fs.RO.primary_mixer.inlet_1_state[0.0].flow_mass_phase_comp[Liq,NaCl]\n",
      "2023-12-19 16:50:37 [WARNING] idaes.core.util.scaling: Missing scaling factor for fs.RO.primary_mixer.mixed_state[0.0].flow_mass_phase_comp[Liq,H2O]\n",
      "2023-12-19 16:50:37 [WARNING] idaes.core.util.scaling: Missing scaling factor for fs.RO.primary_mixer.mixed_state[0.0].flow_mass_phase_comp[Liq,NaCl]\n",
      "2023-12-19 16:50:37 [INFO] idaes.apps.grid_integration.multiperiod.multiperiod: ...Constructing the flowsheet model for blocks[11]\n",
      "\n",
      "            =======> BUILDING RO SYSTEM <=======            \n",
      "\n",
      "WARNING: Implicitly replacing the Component attribute power_demand\n",
      "    (type=<class 'pyomo.core.base.expression.ScalarExpression'>) on block\n",
      "    fs.RO with a new Component (type=<class\n",
      "    'pyomo.core.base.expression.ScalarExpression'>). This is usually\n",
      "    indicative of a modelling error. To avoid this warning, use\n",
      "    block.del_component() and block.add_component().\n",
      "\n",
      "       =======> SETTING OPERATING CONDITIONS <=======       \n",
      "\n",
      "2023-12-19 16:50:37 [WARNING] idaes.core.util.scaling: Missing scaling factor for fs.RO.feed.properties[0.0].flow_mass_phase_comp[Liq,H2O]\n",
      "2023-12-19 16:50:37 [WARNING] idaes.core.util.scaling: Missing scaling factor for fs.RO.feed.properties[0.0].flow_mass_phase_comp[Liq,NaCl]\n",
      "2023-12-19 16:50:37 [WARNING] idaes.core.util.scaling: Missing scaling factor for fs.RO.product.properties[0.0].flow_mass_phase_comp[Liq,H2O]\n",
      "2023-12-19 16:50:37 [WARNING] idaes.core.util.scaling: Missing scaling factor for fs.RO.product.properties[0.0].flow_mass_phase_comp[Liq,NaCl]\n",
      "2023-12-19 16:50:37 [WARNING] idaes.core.util.scaling: Missing scaling factor for fs.RO.disposal.properties[0.0].flow_mass_phase_comp[Liq,H2O]\n",
      "2023-12-19 16:50:37 [WARNING] idaes.core.util.scaling: Missing scaling factor for fs.RO.disposal.properties[0.0].flow_mass_phase_comp[Liq,NaCl]\n",
      "2023-12-19 16:50:37 [WARNING] idaes.core.util.scaling: Missing scaling factor for fs.RO.primary_mixer.inlet_1_state[0.0].flow_mass_phase_comp[Liq,H2O]\n",
      "2023-12-19 16:50:37 [WARNING] idaes.core.util.scaling: Missing scaling factor for fs.RO.primary_mixer.inlet_1_state[0.0].flow_mass_phase_comp[Liq,NaCl]\n",
      "2023-12-19 16:50:37 [WARNING] idaes.core.util.scaling: Missing scaling factor for fs.RO.primary_mixer.mixed_state[0.0].flow_mass_phase_comp[Liq,H2O]\n",
      "2023-12-19 16:50:37 [WARNING] idaes.core.util.scaling: Missing scaling factor for fs.RO.primary_mixer.mixed_state[0.0].flow_mass_phase_comp[Liq,NaCl]\n",
      "2023-12-19 16:50:37 [INFO] idaes.apps.grid_integration.multiperiod.multiperiod: ...Constructing the flowsheet model for blocks[12]\n",
      "\n",
      "            =======> BUILDING RO SYSTEM <=======            \n",
      "\n",
      "WARNING: Implicitly replacing the Component attribute power_demand\n",
      "    (type=<class 'pyomo.core.base.expression.ScalarExpression'>) on block\n",
      "    fs.RO with a new Component (type=<class\n",
      "    'pyomo.core.base.expression.ScalarExpression'>). This is usually\n",
      "    indicative of a modelling error. To avoid this warning, use\n",
      "    block.del_component() and block.add_component().\n",
      "\n",
      "       =======> SETTING OPERATING CONDITIONS <=======       \n",
      "\n",
      "2023-12-19 16:50:37 [WARNING] idaes.core.util.scaling: Missing scaling factor for fs.RO.feed.properties[0.0].flow_mass_phase_comp[Liq,H2O]\n",
      "2023-12-19 16:50:37 [WARNING] idaes.core.util.scaling: Missing scaling factor for fs.RO.feed.properties[0.0].flow_mass_phase_comp[Liq,NaCl]\n",
      "2023-12-19 16:50:37 [WARNING] idaes.core.util.scaling: Missing scaling factor for fs.RO.product.properties[0.0].flow_mass_phase_comp[Liq,H2O]\n",
      "2023-12-19 16:50:37 [WARNING] idaes.core.util.scaling: Missing scaling factor for fs.RO.product.properties[0.0].flow_mass_phase_comp[Liq,NaCl]\n",
      "2023-12-19 16:50:37 [WARNING] idaes.core.util.scaling: Missing scaling factor for fs.RO.disposal.properties[0.0].flow_mass_phase_comp[Liq,H2O]\n",
      "2023-12-19 16:50:37 [WARNING] idaes.core.util.scaling: Missing scaling factor for fs.RO.disposal.properties[0.0].flow_mass_phase_comp[Liq,NaCl]\n",
      "2023-12-19 16:50:37 [WARNING] idaes.core.util.scaling: Missing scaling factor for fs.RO.primary_mixer.inlet_1_state[0.0].flow_mass_phase_comp[Liq,H2O]\n",
      "2023-12-19 16:50:37 [WARNING] idaes.core.util.scaling: Missing scaling factor for fs.RO.primary_mixer.inlet_1_state[0.0].flow_mass_phase_comp[Liq,NaCl]\n",
      "2023-12-19 16:50:37 [WARNING] idaes.core.util.scaling: Missing scaling factor for fs.RO.primary_mixer.mixed_state[0.0].flow_mass_phase_comp[Liq,H2O]\n",
      "2023-12-19 16:50:37 [WARNING] idaes.core.util.scaling: Missing scaling factor for fs.RO.primary_mixer.mixed_state[0.0].flow_mass_phase_comp[Liq,NaCl]\n",
      "2023-12-19 16:50:37 [INFO] idaes.apps.grid_integration.multiperiod.multiperiod: ...Constructing the flowsheet model for blocks[13]\n",
      "\n",
      "            =======> BUILDING RO SYSTEM <=======            \n",
      "\n",
      "WARNING: Implicitly replacing the Component attribute power_demand\n",
      "    (type=<class 'pyomo.core.base.expression.ScalarExpression'>) on block\n",
      "    fs.RO with a new Component (type=<class\n",
      "    'pyomo.core.base.expression.ScalarExpression'>). This is usually\n",
      "    indicative of a modelling error. To avoid this warning, use\n",
      "    block.del_component() and block.add_component().\n",
      "\n",
      "       =======> SETTING OPERATING CONDITIONS <=======       \n",
      "\n",
      "2023-12-19 16:50:37 [WARNING] idaes.core.util.scaling: Missing scaling factor for fs.RO.feed.properties[0.0].flow_mass_phase_comp[Liq,H2O]\n",
      "2023-12-19 16:50:37 [WARNING] idaes.core.util.scaling: Missing scaling factor for fs.RO.feed.properties[0.0].flow_mass_phase_comp[Liq,NaCl]\n",
      "2023-12-19 16:50:37 [WARNING] idaes.core.util.scaling: Missing scaling factor for fs.RO.product.properties[0.0].flow_mass_phase_comp[Liq,H2O]\n",
      "2023-12-19 16:50:37 [WARNING] idaes.core.util.scaling: Missing scaling factor for fs.RO.product.properties[0.0].flow_mass_phase_comp[Liq,NaCl]\n",
      "2023-12-19 16:50:37 [WARNING] idaes.core.util.scaling: Missing scaling factor for fs.RO.disposal.properties[0.0].flow_mass_phase_comp[Liq,H2O]\n",
      "2023-12-19 16:50:37 [WARNING] idaes.core.util.scaling: Missing scaling factor for fs.RO.disposal.properties[0.0].flow_mass_phase_comp[Liq,NaCl]\n",
      "2023-12-19 16:50:37 [WARNING] idaes.core.util.scaling: Missing scaling factor for fs.RO.primary_mixer.inlet_1_state[0.0].flow_mass_phase_comp[Liq,H2O]\n",
      "2023-12-19 16:50:37 [WARNING] idaes.core.util.scaling: Missing scaling factor for fs.RO.primary_mixer.inlet_1_state[0.0].flow_mass_phase_comp[Liq,NaCl]\n",
      "2023-12-19 16:50:37 [WARNING] idaes.core.util.scaling: Missing scaling factor for fs.RO.primary_mixer.mixed_state[0.0].flow_mass_phase_comp[Liq,H2O]\n",
      "2023-12-19 16:50:37 [WARNING] idaes.core.util.scaling: Missing scaling factor for fs.RO.primary_mixer.mixed_state[0.0].flow_mass_phase_comp[Liq,NaCl]\n",
      "2023-12-19 16:50:37 [INFO] idaes.apps.grid_integration.multiperiod.multiperiod: ...Constructing the flowsheet model for blocks[14]\n",
      "\n",
      "            =======> BUILDING RO SYSTEM <=======            \n",
      "\n",
      "WARNING: Implicitly replacing the Component attribute power_demand\n",
      "    (type=<class 'pyomo.core.base.expression.ScalarExpression'>) on block\n",
      "    fs.RO with a new Component (type=<class\n",
      "    'pyomo.core.base.expression.ScalarExpression'>). This is usually\n",
      "    indicative of a modelling error. To avoid this warning, use\n",
      "    block.del_component() and block.add_component().\n",
      "\n",
      "       =======> SETTING OPERATING CONDITIONS <=======       \n",
      "\n",
      "2023-12-19 16:50:38 [WARNING] idaes.core.util.scaling: Missing scaling factor for fs.RO.feed.properties[0.0].flow_mass_phase_comp[Liq,H2O]\n",
      "2023-12-19 16:50:38 [WARNING] idaes.core.util.scaling: Missing scaling factor for fs.RO.feed.properties[0.0].flow_mass_phase_comp[Liq,NaCl]\n",
      "2023-12-19 16:50:38 [WARNING] idaes.core.util.scaling: Missing scaling factor for fs.RO.product.properties[0.0].flow_mass_phase_comp[Liq,H2O]\n",
      "2023-12-19 16:50:38 [WARNING] idaes.core.util.scaling: Missing scaling factor for fs.RO.product.properties[0.0].flow_mass_phase_comp[Liq,NaCl]\n",
      "2023-12-19 16:50:38 [WARNING] idaes.core.util.scaling: Missing scaling factor for fs.RO.disposal.properties[0.0].flow_mass_phase_comp[Liq,H2O]\n",
      "2023-12-19 16:50:38 [WARNING] idaes.core.util.scaling: Missing scaling factor for fs.RO.disposal.properties[0.0].flow_mass_phase_comp[Liq,NaCl]\n",
      "2023-12-19 16:50:38 [WARNING] idaes.core.util.scaling: Missing scaling factor for fs.RO.primary_mixer.inlet_1_state[0.0].flow_mass_phase_comp[Liq,H2O]\n",
      "2023-12-19 16:50:38 [WARNING] idaes.core.util.scaling: Missing scaling factor for fs.RO.primary_mixer.inlet_1_state[0.0].flow_mass_phase_comp[Liq,NaCl]\n",
      "2023-12-19 16:50:38 [WARNING] idaes.core.util.scaling: Missing scaling factor for fs.RO.primary_mixer.mixed_state[0.0].flow_mass_phase_comp[Liq,H2O]\n",
      "2023-12-19 16:50:38 [WARNING] idaes.core.util.scaling: Missing scaling factor for fs.RO.primary_mixer.mixed_state[0.0].flow_mass_phase_comp[Liq,NaCl]\n",
      "2023-12-19 16:50:38 [INFO] idaes.apps.grid_integration.multiperiod.multiperiod: ...Constructing the flowsheet model for blocks[15]\n",
      "\n",
      "            =======> BUILDING RO SYSTEM <=======            \n",
      "\n",
      "WARNING: Implicitly replacing the Component attribute power_demand\n",
      "    (type=<class 'pyomo.core.base.expression.ScalarExpression'>) on block\n",
      "    fs.RO with a new Component (type=<class\n",
      "    'pyomo.core.base.expression.ScalarExpression'>). This is usually\n",
      "    indicative of a modelling error. To avoid this warning, use\n",
      "    block.del_component() and block.add_component().\n",
      "\n",
      "       =======> SETTING OPERATING CONDITIONS <=======       \n",
      "\n",
      "2023-12-19 16:50:38 [WARNING] idaes.core.util.scaling: Missing scaling factor for fs.RO.feed.properties[0.0].flow_mass_phase_comp[Liq,H2O]\n",
      "2023-12-19 16:50:38 [WARNING] idaes.core.util.scaling: Missing scaling factor for fs.RO.feed.properties[0.0].flow_mass_phase_comp[Liq,NaCl]\n",
      "2023-12-19 16:50:38 [WARNING] idaes.core.util.scaling: Missing scaling factor for fs.RO.product.properties[0.0].flow_mass_phase_comp[Liq,H2O]\n",
      "2023-12-19 16:50:38 [WARNING] idaes.core.util.scaling: Missing scaling factor for fs.RO.product.properties[0.0].flow_mass_phase_comp[Liq,NaCl]\n",
      "2023-12-19 16:50:38 [WARNING] idaes.core.util.scaling: Missing scaling factor for fs.RO.disposal.properties[0.0].flow_mass_phase_comp[Liq,H2O]\n",
      "2023-12-19 16:50:38 [WARNING] idaes.core.util.scaling: Missing scaling factor for fs.RO.disposal.properties[0.0].flow_mass_phase_comp[Liq,NaCl]\n",
      "2023-12-19 16:50:38 [WARNING] idaes.core.util.scaling: Missing scaling factor for fs.RO.primary_mixer.inlet_1_state[0.0].flow_mass_phase_comp[Liq,H2O]\n",
      "2023-12-19 16:50:38 [WARNING] idaes.core.util.scaling: Missing scaling factor for fs.RO.primary_mixer.inlet_1_state[0.0].flow_mass_phase_comp[Liq,NaCl]\n",
      "2023-12-19 16:50:38 [WARNING] idaes.core.util.scaling: Missing scaling factor for fs.RO.primary_mixer.mixed_state[0.0].flow_mass_phase_comp[Liq,H2O]\n",
      "2023-12-19 16:50:38 [WARNING] idaes.core.util.scaling: Missing scaling factor for fs.RO.primary_mixer.mixed_state[0.0].flow_mass_phase_comp[Liq,NaCl]\n",
      "2023-12-19 16:50:38 [INFO] idaes.apps.grid_integration.multiperiod.multiperiod: ...Constructing the flowsheet model for blocks[16]\n",
      "\n",
      "            =======> BUILDING RO SYSTEM <=======            \n",
      "\n",
      "WARNING: Implicitly replacing the Component attribute power_demand\n",
      "    (type=<class 'pyomo.core.base.expression.ScalarExpression'>) on block\n",
      "    fs.RO with a new Component (type=<class\n",
      "    'pyomo.core.base.expression.ScalarExpression'>). This is usually\n",
      "    indicative of a modelling error. To avoid this warning, use\n",
      "    block.del_component() and block.add_component().\n",
      "\n",
      "       =======> SETTING OPERATING CONDITIONS <=======       \n",
      "\n",
      "2023-12-19 16:50:38 [WARNING] idaes.core.util.scaling: Missing scaling factor for fs.RO.feed.properties[0.0].flow_mass_phase_comp[Liq,H2O]\n",
      "2023-12-19 16:50:38 [WARNING] idaes.core.util.scaling: Missing scaling factor for fs.RO.feed.properties[0.0].flow_mass_phase_comp[Liq,NaCl]\n",
      "2023-12-19 16:50:38 [WARNING] idaes.core.util.scaling: Missing scaling factor for fs.RO.product.properties[0.0].flow_mass_phase_comp[Liq,H2O]\n",
      "2023-12-19 16:50:38 [WARNING] idaes.core.util.scaling: Missing scaling factor for fs.RO.product.properties[0.0].flow_mass_phase_comp[Liq,NaCl]\n",
      "2023-12-19 16:50:38 [WARNING] idaes.core.util.scaling: Missing scaling factor for fs.RO.disposal.properties[0.0].flow_mass_phase_comp[Liq,H2O]\n",
      "2023-12-19 16:50:38 [WARNING] idaes.core.util.scaling: Missing scaling factor for fs.RO.disposal.properties[0.0].flow_mass_phase_comp[Liq,NaCl]\n",
      "2023-12-19 16:50:38 [WARNING] idaes.core.util.scaling: Missing scaling factor for fs.RO.primary_mixer.inlet_1_state[0.0].flow_mass_phase_comp[Liq,H2O]\n",
      "2023-12-19 16:50:38 [WARNING] idaes.core.util.scaling: Missing scaling factor for fs.RO.primary_mixer.inlet_1_state[0.0].flow_mass_phase_comp[Liq,NaCl]\n",
      "2023-12-19 16:50:38 [WARNING] idaes.core.util.scaling: Missing scaling factor for fs.RO.primary_mixer.mixed_state[0.0].flow_mass_phase_comp[Liq,H2O]\n",
      "2023-12-19 16:50:38 [WARNING] idaes.core.util.scaling: Missing scaling factor for fs.RO.primary_mixer.mixed_state[0.0].flow_mass_phase_comp[Liq,NaCl]\n",
      "2023-12-19 16:50:38 [INFO] idaes.apps.grid_integration.multiperiod.multiperiod: ...Constructing the flowsheet model for blocks[17]\n",
      "\n",
      "            =======> BUILDING RO SYSTEM <=======            \n",
      "\n",
      "WARNING: Implicitly replacing the Component attribute power_demand\n",
      "    (type=<class 'pyomo.core.base.expression.ScalarExpression'>) on block\n",
      "    fs.RO with a new Component (type=<class\n",
      "    'pyomo.core.base.expression.ScalarExpression'>). This is usually\n",
      "    indicative of a modelling error. To avoid this warning, use\n",
      "    block.del_component() and block.add_component().\n",
      "\n",
      "       =======> SETTING OPERATING CONDITIONS <=======       \n",
      "\n",
      "2023-12-19 16:50:38 [WARNING] idaes.core.util.scaling: Missing scaling factor for fs.RO.feed.properties[0.0].flow_mass_phase_comp[Liq,H2O]\n",
      "2023-12-19 16:50:38 [WARNING] idaes.core.util.scaling: Missing scaling factor for fs.RO.feed.properties[0.0].flow_mass_phase_comp[Liq,NaCl]\n",
      "2023-12-19 16:50:38 [WARNING] idaes.core.util.scaling: Missing scaling factor for fs.RO.product.properties[0.0].flow_mass_phase_comp[Liq,H2O]\n",
      "2023-12-19 16:50:38 [WARNING] idaes.core.util.scaling: Missing scaling factor for fs.RO.product.properties[0.0].flow_mass_phase_comp[Liq,NaCl]\n",
      "2023-12-19 16:50:38 [WARNING] idaes.core.util.scaling: Missing scaling factor for fs.RO.disposal.properties[0.0].flow_mass_phase_comp[Liq,H2O]\n",
      "2023-12-19 16:50:38 [WARNING] idaes.core.util.scaling: Missing scaling factor for fs.RO.disposal.properties[0.0].flow_mass_phase_comp[Liq,NaCl]\n",
      "2023-12-19 16:50:38 [WARNING] idaes.core.util.scaling: Missing scaling factor for fs.RO.primary_mixer.inlet_1_state[0.0].flow_mass_phase_comp[Liq,H2O]\n",
      "2023-12-19 16:50:38 [WARNING] idaes.core.util.scaling: Missing scaling factor for fs.RO.primary_mixer.inlet_1_state[0.0].flow_mass_phase_comp[Liq,NaCl]\n",
      "2023-12-19 16:50:38 [WARNING] idaes.core.util.scaling: Missing scaling factor for fs.RO.primary_mixer.mixed_state[0.0].flow_mass_phase_comp[Liq,H2O]\n",
      "2023-12-19 16:50:38 [WARNING] idaes.core.util.scaling: Missing scaling factor for fs.RO.primary_mixer.mixed_state[0.0].flow_mass_phase_comp[Liq,NaCl]\n",
      "2023-12-19 16:50:38 [INFO] idaes.apps.grid_integration.multiperiod.multiperiod: ...Constructing the flowsheet model for blocks[18]\n",
      "\n",
      "            =======> BUILDING RO SYSTEM <=======            \n",
      "\n",
      "WARNING: Implicitly replacing the Component attribute power_demand\n",
      "    (type=<class 'pyomo.core.base.expression.ScalarExpression'>) on block\n",
      "    fs.RO with a new Component (type=<class\n",
      "    'pyomo.core.base.expression.ScalarExpression'>). This is usually\n",
      "    indicative of a modelling error. To avoid this warning, use\n",
      "    block.del_component() and block.add_component().\n",
      "\n",
      "       =======> SETTING OPERATING CONDITIONS <=======       \n",
      "\n",
      "2023-12-19 16:50:38 [WARNING] idaes.core.util.scaling: Missing scaling factor for fs.RO.feed.properties[0.0].flow_mass_phase_comp[Liq,H2O]\n",
      "2023-12-19 16:50:38 [WARNING] idaes.core.util.scaling: Missing scaling factor for fs.RO.feed.properties[0.0].flow_mass_phase_comp[Liq,NaCl]\n",
      "2023-12-19 16:50:38 [WARNING] idaes.core.util.scaling: Missing scaling factor for fs.RO.product.properties[0.0].flow_mass_phase_comp[Liq,H2O]\n",
      "2023-12-19 16:50:38 [WARNING] idaes.core.util.scaling: Missing scaling factor for fs.RO.product.properties[0.0].flow_mass_phase_comp[Liq,NaCl]\n",
      "2023-12-19 16:50:38 [WARNING] idaes.core.util.scaling: Missing scaling factor for fs.RO.disposal.properties[0.0].flow_mass_phase_comp[Liq,H2O]\n",
      "2023-12-19 16:50:38 [WARNING] idaes.core.util.scaling: Missing scaling factor for fs.RO.disposal.properties[0.0].flow_mass_phase_comp[Liq,NaCl]\n",
      "2023-12-19 16:50:38 [WARNING] idaes.core.util.scaling: Missing scaling factor for fs.RO.primary_mixer.inlet_1_state[0.0].flow_mass_phase_comp[Liq,H2O]\n",
      "2023-12-19 16:50:38 [WARNING] idaes.core.util.scaling: Missing scaling factor for fs.RO.primary_mixer.inlet_1_state[0.0].flow_mass_phase_comp[Liq,NaCl]\n",
      "2023-12-19 16:50:38 [WARNING] idaes.core.util.scaling: Missing scaling factor for fs.RO.primary_mixer.mixed_state[0.0].flow_mass_phase_comp[Liq,H2O]\n",
      "2023-12-19 16:50:38 [WARNING] idaes.core.util.scaling: Missing scaling factor for fs.RO.primary_mixer.mixed_state[0.0].flow_mass_phase_comp[Liq,NaCl]\n",
      "2023-12-19 16:50:38 [INFO] idaes.apps.grid_integration.multiperiod.multiperiod: ...Constructing the flowsheet model for blocks[19]\n",
      "\n",
      "            =======> BUILDING RO SYSTEM <=======            \n",
      "\n",
      "WARNING: Implicitly replacing the Component attribute power_demand\n",
      "    (type=<class 'pyomo.core.base.expression.ScalarExpression'>) on block\n",
      "    fs.RO with a new Component (type=<class\n",
      "    'pyomo.core.base.expression.ScalarExpression'>). This is usually\n",
      "    indicative of a modelling error. To avoid this warning, use\n",
      "    block.del_component() and block.add_component().\n",
      "\n",
      "       =======> SETTING OPERATING CONDITIONS <=======       \n",
      "\n",
      "2023-12-19 16:50:39 [WARNING] idaes.core.util.scaling: Missing scaling factor for fs.RO.feed.properties[0.0].flow_mass_phase_comp[Liq,H2O]\n",
      "2023-12-19 16:50:39 [WARNING] idaes.core.util.scaling: Missing scaling factor for fs.RO.feed.properties[0.0].flow_mass_phase_comp[Liq,NaCl]\n",
      "2023-12-19 16:50:39 [WARNING] idaes.core.util.scaling: Missing scaling factor for fs.RO.product.properties[0.0].flow_mass_phase_comp[Liq,H2O]\n",
      "2023-12-19 16:50:39 [WARNING] idaes.core.util.scaling: Missing scaling factor for fs.RO.product.properties[0.0].flow_mass_phase_comp[Liq,NaCl]\n",
      "2023-12-19 16:50:39 [WARNING] idaes.core.util.scaling: Missing scaling factor for fs.RO.disposal.properties[0.0].flow_mass_phase_comp[Liq,H2O]\n",
      "2023-12-19 16:50:39 [WARNING] idaes.core.util.scaling: Missing scaling factor for fs.RO.disposal.properties[0.0].flow_mass_phase_comp[Liq,NaCl]\n",
      "2023-12-19 16:50:39 [WARNING] idaes.core.util.scaling: Missing scaling factor for fs.RO.primary_mixer.inlet_1_state[0.0].flow_mass_phase_comp[Liq,H2O]\n",
      "2023-12-19 16:50:39 [WARNING] idaes.core.util.scaling: Missing scaling factor for fs.RO.primary_mixer.inlet_1_state[0.0].flow_mass_phase_comp[Liq,NaCl]\n",
      "2023-12-19 16:50:39 [WARNING] idaes.core.util.scaling: Missing scaling factor for fs.RO.primary_mixer.mixed_state[0.0].flow_mass_phase_comp[Liq,H2O]\n",
      "2023-12-19 16:50:39 [WARNING] idaes.core.util.scaling: Missing scaling factor for fs.RO.primary_mixer.mixed_state[0.0].flow_mass_phase_comp[Liq,NaCl]\n"
     ]
    },
    {
     "ename": "KeyboardInterrupt",
     "evalue": "",
     "output_type": "error",
     "traceback": [
      "\u001b[0;31m---------------------------------------------------------------------------\u001b[0m",
      "\u001b[0;31mKeyboardInterrupt\u001b[0m                         Traceback (most recent call last)",
      "\u001b[0;32m/var/folders/f6/ln_247ms54b5y1mdczhdrr59rtfn88/T/ipykernel_66306/3253284904.py\u001b[0m in \u001b[0;36m<cell line: 1>\u001b[0;34m()\u001b[0m\n\u001b[0;32m----> 1\u001b[0;31m \u001b[0mmp\u001b[0m \u001b[0;34m=\u001b[0m \u001b[0mcreate_multiperiod_pv_battery_model\u001b[0m\u001b[0;34m(\u001b[0m\u001b[0msurrogate\u001b[0m\u001b[0;34m=\u001b[0m\u001b[0mPV_surrogate\u001b[0m\u001b[0;34m)\u001b[0m\u001b[0;34m\u001b[0m\u001b[0;34m\u001b[0m\u001b[0m\n\u001b[0m",
      "\u001b[0;32m/var/folders/f6/ln_247ms54b5y1mdczhdrr59rtfn88/T/ipykernel_66306/4146108094.py\u001b[0m in \u001b[0;36mcreate_multiperiod_pv_battery_model\u001b[0;34m(n_time_points, surrogate)\u001b[0m\n\u001b[1;32m     26\u001b[0m \u001b[0;34m\u001b[0m\u001b[0m\n\u001b[1;32m     27\u001b[0m     \u001b[0;31m# Build a multi-period capable model using user-provided functions\u001b[0m\u001b[0;34m\u001b[0m\u001b[0;34m\u001b[0m\u001b[0m\n\u001b[0;32m---> 28\u001b[0;31m     mp.build_multi_period_model(\n\u001b[0m\u001b[1;32m     29\u001b[0m         model_data_kwargs=flowsheet_options)\n\u001b[1;32m     30\u001b[0m \u001b[0;34m\u001b[0m\u001b[0m\n",
      "\u001b[0;32m/opt/anaconda3/envs/watertap-seto-dev-env/lib/python3.10/site-packages/idaes/apps/grid_integration/multiperiod/multiperiod.py\u001b[0m in \u001b[0;36mbuild_multi_period_model\u001b[0;34m(self, model_data_kwargs, flowsheet_options, initialization_options, unfix_dof_options, solver)\u001b[0m\n\u001b[1;32m    164\u001b[0m         \u001b[0;32mfor\u001b[0m \u001b[0mt\u001b[0m \u001b[0;32min\u001b[0m \u001b[0mm\u001b[0m\u001b[0;34m.\u001b[0m\u001b[0mTIME\u001b[0m\u001b[0;34m:\u001b[0m\u001b[0;34m\u001b[0m\u001b[0;34m\u001b[0m\u001b[0m\n\u001b[1;32m    165\u001b[0m             \u001b[0m_logger\u001b[0m\u001b[0;34m.\u001b[0m\u001b[0minfo\u001b[0m\u001b[0;34m(\u001b[0m\u001b[0;34mf\"...Constructing the flowsheet model for {m.blocks[t].name}\"\u001b[0m\u001b[0;34m)\u001b[0m\u001b[0;34m\u001b[0m\u001b[0;34m\u001b[0m\u001b[0m\n\u001b[0;32m--> 166\u001b[0;31m             \u001b[0mm\u001b[0m\u001b[0;34m.\u001b[0m\u001b[0mblocks\u001b[0m\u001b[0;34m[\u001b[0m\u001b[0mt\u001b[0m\u001b[0;34m]\u001b[0m\u001b[0;34m.\u001b[0m\u001b[0mprocess\u001b[0m \u001b[0;34m=\u001b[0m \u001b[0mself\u001b[0m\u001b[0;34m.\u001b[0m\u001b[0mcreate_process_model\u001b[0m\u001b[0;34m(\u001b[0m\u001b[0;34m**\u001b[0m\u001b[0mmodel_data_kwargs\u001b[0m\u001b[0;34m[\u001b[0m\u001b[0mt\u001b[0m\u001b[0;34m]\u001b[0m\u001b[0;34m)\u001b[0m\u001b[0;34m\u001b[0m\u001b[0;34m\u001b[0m\u001b[0m\n\u001b[0m\u001b[1;32m    167\u001b[0m \u001b[0;34m\u001b[0m\u001b[0m\n\u001b[1;32m    168\u001b[0m         \u001b[0mtimer\u001b[0m\u001b[0;34m.\u001b[0m\u001b[0mtoc\u001b[0m\u001b[0;34m(\u001b[0m\u001b[0;34m\"Completed the formulation of the multiperiod optimization problem.\"\u001b[0m\u001b[0;34m)\u001b[0m\u001b[0;34m\u001b[0m\u001b[0;34m\u001b[0m\u001b[0m\n",
      "\u001b[0;32m~/watertap-seto/src/watertap_contrib/reflo/code_demos/steady_state_flowsheets/system.py\u001b[0m in \u001b[0;36msteady_state_flowsheet\u001b[0;34m(m, pv_gen, electricity_price, pv_oversize, fixed_battery_size)\u001b[0m\n\u001b[1;32m    219\u001b[0m     \u001b[0mm\u001b[0m\u001b[0;34m.\u001b[0m\u001b[0mfs\u001b[0m\u001b[0;34m.\u001b[0m\u001b[0mproperties\u001b[0m \u001b[0;34m=\u001b[0m \u001b[0mNaClParameterBlock\u001b[0m\u001b[0;34m(\u001b[0m\u001b[0;34m)\u001b[0m\u001b[0;34m\u001b[0m\u001b[0;34m\u001b[0m\u001b[0m\n\u001b[1;32m    220\u001b[0m     \u001b[0mm\u001b[0m\u001b[0;34m.\u001b[0m\u001b[0mfs\u001b[0m\u001b[0;34m.\u001b[0m\u001b[0mRO\u001b[0m \u001b[0;34m=\u001b[0m \u001b[0mFlowsheetBlock\u001b[0m\u001b[0;34m(\u001b[0m\u001b[0mdynamic\u001b[0m\u001b[0;34m=\u001b[0m\u001b[0;32mFalse\u001b[0m\u001b[0;34m)\u001b[0m\u001b[0;34m\u001b[0m\u001b[0;34m\u001b[0m\u001b[0m\n\u001b[0;32m--> 221\u001b[0;31m     \u001b[0mbuild_system\u001b[0m\u001b[0;34m(\u001b[0m\u001b[0mm\u001b[0m\u001b[0;34m)\u001b[0m\u001b[0;34m\u001b[0m\u001b[0;34m\u001b[0m\u001b[0m\n\u001b[0m\u001b[1;32m    222\u001b[0m     \u001b[0;31m# init_system(m)\u001b[0m\u001b[0;34m\u001b[0m\u001b[0;34m\u001b[0m\u001b[0m\n\u001b[1;32m    223\u001b[0m     \u001b[0mm\u001b[0m\u001b[0;34m.\u001b[0m\u001b[0mfs\u001b[0m\u001b[0;34m.\u001b[0m\u001b[0mbattery\u001b[0m \u001b[0;34m=\u001b[0m \u001b[0mBatteryStorage\u001b[0m\u001b[0;34m(\u001b[0m\u001b[0;34m)\u001b[0m\u001b[0;34m\u001b[0m\u001b[0;34m\u001b[0m\u001b[0m\n",
      "\u001b[0;32m~/watertap-seto/src/watertap_contrib/reflo/code_demos/steady_state_flowsheets/ro_system.py\u001b[0m in \u001b[0;36mbuild_system\u001b[0;34m(m)\u001b[0m\n\u001b[1;32m    115\u001b[0m     \u001b[0madd_constraints\u001b[0m\u001b[0;34m(\u001b[0m\u001b[0mm\u001b[0m\u001b[0;34m)\u001b[0m\u001b[0;34m\u001b[0m\u001b[0;34m\u001b[0m\u001b[0m\n\u001b[1;32m    116\u001b[0m     \u001b[0mset_ro_scaling_and_params\u001b[0m\u001b[0;34m(\u001b[0m\u001b[0mm\u001b[0m\u001b[0;34m)\u001b[0m\u001b[0;34m\u001b[0m\u001b[0;34m\u001b[0m\u001b[0m\n\u001b[0;32m--> 117\u001b[0;31m     \u001b[0mset_operating_conditions\u001b[0m\u001b[0;34m(\u001b[0m\u001b[0mm\u001b[0m\u001b[0;34m)\u001b[0m\u001b[0;34m\u001b[0m\u001b[0;34m\u001b[0m\u001b[0m\n\u001b[0m\u001b[1;32m    118\u001b[0m \u001b[0;34m\u001b[0m\u001b[0m\n\u001b[1;32m    119\u001b[0m     \u001b[0;32mreturn\u001b[0m \u001b[0mm\u001b[0m\u001b[0;34m\u001b[0m\u001b[0;34m\u001b[0m\u001b[0m\n",
      "\u001b[0;32m~/watertap-seto/src/watertap_contrib/reflo/code_demos/steady_state_flowsheets/ro_system.py\u001b[0m in \u001b[0;36mset_operating_conditions\u001b[0;34m(m)\u001b[0m\n\u001b[1;32m    494\u001b[0m     \u001b[0mset_inlet_conditions\u001b[0m\u001b[0;34m(\u001b[0m\u001b[0mm\u001b[0m\u001b[0;34m,\u001b[0m \u001b[0mQin\u001b[0m\u001b[0;34m=\u001b[0m\u001b[0;36m150\u001b[0m\u001b[0;34m,\u001b[0m \u001b[0mCin\u001b[0m\u001b[0;34m=\u001b[0m\u001b[0;36m35\u001b[0m\u001b[0;34m,\u001b[0m \u001b[0mprimary_pump_pressure\u001b[0m\u001b[0;34m=\u001b[0m\u001b[0;36m70e5\u001b[0m\u001b[0;34m)\u001b[0m\u001b[0;34m\u001b[0m\u001b[0;34m\u001b[0m\u001b[0m\n\u001b[1;32m    495\u001b[0m     \u001b[0;31m# set_inlet_conditions(m, Qin=0.031976*1000, Cin=0.004, primary_pump_pressure=10e5)\u001b[0m\u001b[0;34m\u001b[0m\u001b[0;34m\u001b[0m\u001b[0m\n\u001b[0;32m--> 496\u001b[0;31m     \u001b[0mset_ro_system_operating_conditions\u001b[0m\u001b[0;34m(\u001b[0m\u001b[0mm\u001b[0m\u001b[0;34m,\u001b[0m \u001b[0mm\u001b[0m\u001b[0;34m.\u001b[0m\u001b[0mfs\u001b[0m\u001b[0;34m.\u001b[0m\u001b[0mRO\u001b[0m\u001b[0;34m)\u001b[0m\u001b[0;34m\u001b[0m\u001b[0;34m\u001b[0m\u001b[0m\n\u001b[0m\u001b[1;32m    497\u001b[0m \u001b[0;34m\u001b[0m\u001b[0m\n\u001b[1;32m    498\u001b[0m \u001b[0;32mdef\u001b[0m \u001b[0mcalc_scale\u001b[0m\u001b[0;34m(\u001b[0m\u001b[0mvalue\u001b[0m\u001b[0;34m)\u001b[0m\u001b[0;34m:\u001b[0m\u001b[0;34m\u001b[0m\u001b[0;34m\u001b[0m\u001b[0m\n",
      "\u001b[0;32m~/watertap-seto/src/watertap_contrib/reflo/code_demos/steady_state_flowsheets/ro_system.py\u001b[0m in \u001b[0;36mset_ro_system_operating_conditions\u001b[0;34m(m, blk, mem_area, booster_pump_pressure)\u001b[0m\n\u001b[1;32m    603\u001b[0m         \u001b[0miscale\u001b[0m\u001b[0;34m.\u001b[0m\u001b[0mset_scaling_factor\u001b[0m\u001b[0;34m(\u001b[0m\u001b[0mstage\u001b[0m\u001b[0;34m.\u001b[0m\u001b[0mmodule\u001b[0m\u001b[0;34m.\u001b[0m\u001b[0mwidth\u001b[0m\u001b[0;34m,\u001b[0m \u001b[0;36m3\u001b[0m\u001b[0;34m)\u001b[0m\u001b[0;34m\u001b[0m\u001b[0;34m\u001b[0m\u001b[0m\n\u001b[1;32m    604\u001b[0m \u001b[0;34m\u001b[0m\u001b[0m\n\u001b[0;32m--> 605\u001b[0;31m     \u001b[0miscale\u001b[0m\u001b[0;34m.\u001b[0m\u001b[0mcalculate_scaling_factors\u001b[0m\u001b[0;34m(\u001b[0m\u001b[0mm\u001b[0m\u001b[0;34m)\u001b[0m\u001b[0;34m\u001b[0m\u001b[0;34m\u001b[0m\u001b[0m\n\u001b[0m\u001b[1;32m    606\u001b[0m \u001b[0;34m\u001b[0m\u001b[0m\n\u001b[1;32m    607\u001b[0m     \u001b[0;31m# ---checking model---\u001b[0m\u001b[0;34m\u001b[0m\u001b[0;34m\u001b[0m\u001b[0m\n",
      "\u001b[0;32m/opt/anaconda3/envs/watertap-seto-dev-env/lib/python3.10/site-packages/idaes/core/util/scaling.py\u001b[0m in \u001b[0;36mcalculate_scaling_factors\u001b[0;34m(blk)\u001b[0m\n\u001b[1;32m    200\u001b[0m     \u001b[0mpropagate_indexed_component_scaling_factors\u001b[0m\u001b[0;34m(\u001b[0m\u001b[0mblk\u001b[0m\u001b[0;34m)\u001b[0m\u001b[0;34m\u001b[0m\u001b[0;34m\u001b[0m\u001b[0m\n\u001b[1;32m    201\u001b[0m     \u001b[0;31m# Use the variable scaling factors to scale the arc constraints.\u001b[0m\u001b[0;34m\u001b[0m\u001b[0;34m\u001b[0m\u001b[0m\n\u001b[0;32m--> 202\u001b[0;31m     \u001b[0mscale_arc_constraints\u001b[0m\u001b[0;34m(\u001b[0m\u001b[0mblk\u001b[0m\u001b[0;34m)\u001b[0m\u001b[0;34m\u001b[0m\u001b[0;34m\u001b[0m\u001b[0m\n\u001b[0m\u001b[1;32m    203\u001b[0m \u001b[0;34m\u001b[0m\u001b[0m\n\u001b[1;32m    204\u001b[0m \u001b[0;34m\u001b[0m\u001b[0m\n",
      "\u001b[0;32m/opt/anaconda3/envs/watertap-seto-dev-env/lib/python3.10/site-packages/idaes/core/util/scaling.py\u001b[0m in \u001b[0;36mscale_arc_constraints\u001b[0;34m(blk)\u001b[0m\n\u001b[1;32m    106\u001b[0m                     \u001b[0msf\u001b[0m \u001b[0;34m=\u001b[0m \u001b[0mmin_scaling_factor\u001b[0m\u001b[0;34m(\u001b[0m\u001b[0;34m[\u001b[0m\u001b[0mport1\u001b[0m\u001b[0;34m.\u001b[0m\u001b[0mvars\u001b[0m\u001b[0;34m[\u001b[0m\u001b[0mname\u001b[0m\u001b[0;34m]\u001b[0m\u001b[0;34m,\u001b[0m \u001b[0mport2\u001b[0m\u001b[0;34m.\u001b[0m\u001b[0mvars\u001b[0m\u001b[0;34m[\u001b[0m\u001b[0mname\u001b[0m\u001b[0;34m]\u001b[0m\u001b[0;34m]\u001b[0m\u001b[0;34m)\u001b[0m\u001b[0;34m\u001b[0m\u001b[0;34m\u001b[0m\u001b[0m\n\u001b[1;32m    107\u001b[0m                 \u001b[0;32melse\u001b[0m\u001b[0;34m:\u001b[0m\u001b[0;34m\u001b[0m\u001b[0;34m\u001b[0m\u001b[0m\n\u001b[0;32m--> 108\u001b[0;31m                     \u001b[0msf\u001b[0m \u001b[0;34m=\u001b[0m \u001b[0mmin_scaling_factor\u001b[0m\u001b[0;34m(\u001b[0m\u001b[0;34m[\u001b[0m\u001b[0mport1\u001b[0m\u001b[0;34m.\u001b[0m\u001b[0mvars\u001b[0m\u001b[0;34m[\u001b[0m\u001b[0mname\u001b[0m\u001b[0;34m]\u001b[0m\u001b[0;34m[\u001b[0m\u001b[0mi\u001b[0m\u001b[0;34m]\u001b[0m\u001b[0;34m,\u001b[0m \u001b[0mport2\u001b[0m\u001b[0;34m.\u001b[0m\u001b[0mvars\u001b[0m\u001b[0;34m[\u001b[0m\u001b[0mname\u001b[0m\u001b[0;34m]\u001b[0m\u001b[0;34m[\u001b[0m\u001b[0mi\u001b[0m\u001b[0;34m]\u001b[0m\u001b[0;34m]\u001b[0m\u001b[0;34m)\u001b[0m\u001b[0;34m\u001b[0m\u001b[0;34m\u001b[0m\u001b[0m\n\u001b[0m\u001b[1;32m    109\u001b[0m                 \u001b[0mconstraint_scaling_transform\u001b[0m\u001b[0;34m(\u001b[0m\u001b[0mc\u001b[0m\u001b[0;34m,\u001b[0m \u001b[0msf\u001b[0m\u001b[0;34m)\u001b[0m\u001b[0;34m\u001b[0m\u001b[0;34m\u001b[0m\u001b[0m\n\u001b[1;32m    110\u001b[0m \u001b[0;34m\u001b[0m\u001b[0m\n",
      "\u001b[0;32m/opt/anaconda3/envs/watertap-seto-dev-env/lib/python3.10/site-packages/pyomo/core/base/var.py\u001b[0m in \u001b[0;36m__getitem__\u001b[0;34m(self, args)\u001b[0m\n\u001b[1;32m    930\u001b[0m     \u001b[0;32mdef\u001b[0m \u001b[0m__getitem__\u001b[0m\u001b[0;34m(\u001b[0m\u001b[0mself\u001b[0m\u001b[0;34m,\u001b[0m \u001b[0margs\u001b[0m\u001b[0;34m)\u001b[0m\u001b[0;34m:\u001b[0m\u001b[0;34m\u001b[0m\u001b[0;34m\u001b[0m\u001b[0m\n\u001b[1;32m    931\u001b[0m         \u001b[0;32mtry\u001b[0m\u001b[0;34m:\u001b[0m\u001b[0;34m\u001b[0m\u001b[0;34m\u001b[0m\u001b[0m\n\u001b[0;32m--> 932\u001b[0;31m             \u001b[0;32mreturn\u001b[0m \u001b[0msuper\u001b[0m\u001b[0;34m(\u001b[0m\u001b[0;34m)\u001b[0m\u001b[0;34m.\u001b[0m\u001b[0m__getitem__\u001b[0m\u001b[0;34m(\u001b[0m\u001b[0margs\u001b[0m\u001b[0;34m)\u001b[0m\u001b[0;34m\u001b[0m\u001b[0;34m\u001b[0m\u001b[0m\n\u001b[0m\u001b[1;32m    933\u001b[0m         \u001b[0;32mexcept\u001b[0m \u001b[0mRuntimeError\u001b[0m\u001b[0;34m:\u001b[0m\u001b[0;34m\u001b[0m\u001b[0;34m\u001b[0m\u001b[0m\n\u001b[1;32m    934\u001b[0m             \u001b[0mtmp\u001b[0m \u001b[0;34m=\u001b[0m \u001b[0margs\u001b[0m \u001b[0;32mif\u001b[0m \u001b[0margs\u001b[0m\u001b[0;34m.\u001b[0m\u001b[0m__class__\u001b[0m \u001b[0;32mis\u001b[0m \u001b[0mtuple\u001b[0m \u001b[0;32melse\u001b[0m \u001b[0;34m(\u001b[0m\u001b[0margs\u001b[0m\u001b[0;34m,\u001b[0m\u001b[0;34m)\u001b[0m\u001b[0;34m\u001b[0m\u001b[0;34m\u001b[0m\u001b[0m\n",
      "\u001b[0;32m/opt/anaconda3/envs/watertap-seto-dev-env/lib/python3.10/site-packages/pyomo/core/base/indexed_component.py\u001b[0m in \u001b[0;36m__getitem__\u001b[0;34m(self, index)\u001b[0m\n\u001b[1;32m    536\u001b[0m \u001b[0;34m\u001b[0m\u001b[0m\n\u001b[1;32m    537\u001b[0m         \u001b[0;32mtry\u001b[0m\u001b[0;34m:\u001b[0m\u001b[0;34m\u001b[0m\u001b[0;34m\u001b[0m\u001b[0m\n\u001b[0;32m--> 538\u001b[0;31m             \u001b[0mobj\u001b[0m \u001b[0;34m=\u001b[0m \u001b[0mself\u001b[0m\u001b[0;34m.\u001b[0m\u001b[0m_data\u001b[0m\u001b[0;34m.\u001b[0m\u001b[0mget\u001b[0m\u001b[0;34m(\u001b[0m\u001b[0mindex\u001b[0m\u001b[0;34m,\u001b[0m \u001b[0m_NotFound\u001b[0m\u001b[0;34m)\u001b[0m\u001b[0;34m\u001b[0m\u001b[0;34m\u001b[0m\u001b[0m\n\u001b[0m\u001b[1;32m    539\u001b[0m         \u001b[0;32mexcept\u001b[0m \u001b[0mTypeError\u001b[0m\u001b[0;34m:\u001b[0m\u001b[0;34m\u001b[0m\u001b[0;34m\u001b[0m\u001b[0m\n\u001b[1;32m    540\u001b[0m             \u001b[0;32mtry\u001b[0m\u001b[0;34m:\u001b[0m\u001b[0;34m\u001b[0m\u001b[0;34m\u001b[0m\u001b[0m\n",
      "\u001b[0;32m/opt/anaconda3/envs/watertap-seto-dev-env/lib/python3.10/_collections_abc.py\u001b[0m in \u001b[0;36mget\u001b[0;34m(self, key, default)\u001b[0m\n\u001b[1;32m    817\u001b[0m         \u001b[0;34m'D.get(k[,d]) -> D[k] if k in D, else d.  d defaults to None.'\u001b[0m\u001b[0;34m\u001b[0m\u001b[0;34m\u001b[0m\u001b[0m\n\u001b[1;32m    818\u001b[0m         \u001b[0;32mtry\u001b[0m\u001b[0;34m:\u001b[0m\u001b[0;34m\u001b[0m\u001b[0;34m\u001b[0m\u001b[0m\n\u001b[0;32m--> 819\u001b[0;31m             \u001b[0;32mreturn\u001b[0m \u001b[0mself\u001b[0m\u001b[0;34m[\u001b[0m\u001b[0mkey\u001b[0m\u001b[0;34m]\u001b[0m\u001b[0;34m\u001b[0m\u001b[0;34m\u001b[0m\u001b[0m\n\u001b[0m\u001b[1;32m    820\u001b[0m         \u001b[0;32mexcept\u001b[0m \u001b[0mKeyError\u001b[0m\u001b[0;34m:\u001b[0m\u001b[0;34m\u001b[0m\u001b[0;34m\u001b[0m\u001b[0m\n\u001b[1;32m    821\u001b[0m             \u001b[0;32mreturn\u001b[0m \u001b[0mdefault\u001b[0m\u001b[0;34m\u001b[0m\u001b[0;34m\u001b[0m\u001b[0m\n",
      "\u001b[0;32m/opt/anaconda3/envs/watertap-seto-dev-env/lib/python3.10/site-packages/pyomo/core/base/reference.py\u001b[0m in \u001b[0;36m__getitem__\u001b[0;34m(self, key)\u001b[0m\n\u001b[1;32m    236\u001b[0m             \u001b[0;31m# This calls IC_slice_iter.__next__, which calls\u001b[0m\u001b[0;34m\u001b[0m\u001b[0;34m\u001b[0m\u001b[0m\n\u001b[1;32m    237\u001b[0m             \u001b[0;31m# _fill_in_known_wildcards.\u001b[0m\u001b[0;34m\u001b[0m\u001b[0;34m\u001b[0m\u001b[0m\n\u001b[0;32m--> 238\u001b[0;31m             return next(\n\u001b[0m\u001b[1;32m    239\u001b[0m                 \u001b[0mself\u001b[0m\u001b[0;34m.\u001b[0m\u001b[0m_get_iter\u001b[0m\u001b[0;34m(\u001b[0m\u001b[0mself\u001b[0m\u001b[0;34m.\u001b[0m\u001b[0m_slice\u001b[0m\u001b[0;34m,\u001b[0m \u001b[0mkey\u001b[0m\u001b[0;34m,\u001b[0m \u001b[0mget_if_not_present\u001b[0m\u001b[0;34m=\u001b[0m\u001b[0;32mTrue\u001b[0m\u001b[0;34m)\u001b[0m\u001b[0;34m\u001b[0m\u001b[0;34m\u001b[0m\u001b[0m\n\u001b[1;32m    240\u001b[0m             )\n",
      "\u001b[0;32m/opt/anaconda3/envs/watertap-seto-dev-env/lib/python3.10/site-packages/pyomo/core/base/indexed_component_slice.py\u001b[0m in \u001b[0;36m__next__\u001b[0;34m(self)\u001b[0m\n\u001b[1;32m    660\u001b[0m                             \u001b[0;31m# context that we can use to decend further\u001b[0m\u001b[0;34m\u001b[0m\u001b[0;34m\u001b[0m\u001b[0m\n\u001b[1;32m    661\u001b[0m                             \u001b[0;31m# down the model hierarchy):\u001b[0m\u001b[0;34m\u001b[0m\u001b[0;34m\u001b[0m\u001b[0m\n\u001b[0;32m--> 662\u001b[0;31m                             \u001b[0m_comp\u001b[0m \u001b[0;34m=\u001b[0m \u001b[0mself\u001b[0m\u001b[0;34m.\u001b[0m\u001b[0madvance_iter\u001b[0m\u001b[0;34m(\u001b[0m\u001b[0mself\u001b[0m\u001b[0;34m.\u001b[0m\u001b[0m_iter_stack\u001b[0m\u001b[0;34m[\u001b[0m\u001b[0midx\u001b[0m\u001b[0;34m]\u001b[0m\u001b[0;34m)\u001b[0m\u001b[0;34m\u001b[0m\u001b[0;34m\u001b[0m\u001b[0m\n\u001b[0m\u001b[1;32m    663\u001b[0m                             \u001b[0;31m# Note that the iterator will remained\u001b[0m\u001b[0;34m\u001b[0m\u001b[0;34m\u001b[0m\u001b[0m\n\u001b[1;32m    664\u001b[0m                             \u001b[0;31m# cached for subsequent calls to __next__()\u001b[0m\u001b[0;34m\u001b[0m\u001b[0;34m\u001b[0m\u001b[0m\n",
      "\u001b[0;32m/opt/anaconda3/envs/watertap-seto-dev-env/lib/python3.10/site-packages/pyomo/core/base/reference.py\u001b[0m in \u001b[0;36m__call__\u001b[0;34m(self, _slice)\u001b[0m\n\u001b[1;32m    143\u001b[0m             \u001b[0;31m# Return the component. We have successfully accessed\u001b[0m\u001b[0;34m\u001b[0m\u001b[0;34m\u001b[0m\u001b[0m\n\u001b[1;32m    144\u001b[0m             \u001b[0;31m# the data value.\u001b[0m\u001b[0;34m\u001b[0m\u001b[0;34m\u001b[0m\u001b[0m\n\u001b[0;32m--> 145\u001b[0;31m             \u001b[0;32mreturn\u001b[0m \u001b[0m_slice\u001b[0m\u001b[0;34m.\u001b[0m\u001b[0mcomponent\u001b[0m\u001b[0;34m[\u001b[0m\u001b[0midx\u001b[0m\u001b[0;34m]\u001b[0m\u001b[0;34m\u001b[0m\u001b[0;34m\u001b[0m\u001b[0m\n\u001b[0m\u001b[1;32m    146\u001b[0m         \u001b[0;32melif\u001b[0m \u001b[0mlen\u001b[0m\u001b[0;34m(\u001b[0m\u001b[0midx\u001b[0m\u001b[0;34m)\u001b[0m \u001b[0;34m==\u001b[0m \u001b[0;36m1\u001b[0m \u001b[0;32mand\u001b[0m \u001b[0midx\u001b[0m\u001b[0;34m[\u001b[0m\u001b[0;36m0\u001b[0m\u001b[0;34m]\u001b[0m \u001b[0;32min\u001b[0m \u001b[0m_slice\u001b[0m\u001b[0;34m.\u001b[0m\u001b[0mcomponent\u001b[0m\u001b[0;34m:\u001b[0m\u001b[0;34m\u001b[0m\u001b[0;34m\u001b[0m\u001b[0m\n\u001b[1;32m    147\u001b[0m             \u001b[0;31m# `idx` is a len-1 tuple.  It is the scalar, not the tuple,\u001b[0m\u001b[0;34m\u001b[0m\u001b[0;34m\u001b[0m\u001b[0m\n",
      "\u001b[0;32m/opt/anaconda3/envs/watertap-seto-dev-env/lib/python3.10/site-packages/pyomo/core/base/var.py\u001b[0m in \u001b[0;36m__getitem__\u001b[0;34m(self, args)\u001b[0m\n\u001b[1;32m    930\u001b[0m     \u001b[0;32mdef\u001b[0m \u001b[0m__getitem__\u001b[0m\u001b[0;34m(\u001b[0m\u001b[0mself\u001b[0m\u001b[0;34m,\u001b[0m \u001b[0margs\u001b[0m\u001b[0;34m)\u001b[0m\u001b[0;34m:\u001b[0m\u001b[0;34m\u001b[0m\u001b[0;34m\u001b[0m\u001b[0m\n\u001b[1;32m    931\u001b[0m         \u001b[0;32mtry\u001b[0m\u001b[0;34m:\u001b[0m\u001b[0;34m\u001b[0m\u001b[0;34m\u001b[0m\u001b[0m\n\u001b[0;32m--> 932\u001b[0;31m             \u001b[0;32mreturn\u001b[0m \u001b[0msuper\u001b[0m\u001b[0;34m(\u001b[0m\u001b[0;34m)\u001b[0m\u001b[0;34m.\u001b[0m\u001b[0m__getitem__\u001b[0m\u001b[0;34m(\u001b[0m\u001b[0margs\u001b[0m\u001b[0;34m)\u001b[0m\u001b[0;34m\u001b[0m\u001b[0;34m\u001b[0m\u001b[0m\n\u001b[0m\u001b[1;32m    933\u001b[0m         \u001b[0;32mexcept\u001b[0m \u001b[0mRuntimeError\u001b[0m\u001b[0;34m:\u001b[0m\u001b[0;34m\u001b[0m\u001b[0;34m\u001b[0m\u001b[0m\n\u001b[1;32m    934\u001b[0m             \u001b[0mtmp\u001b[0m \u001b[0;34m=\u001b[0m \u001b[0margs\u001b[0m \u001b[0;32mif\u001b[0m \u001b[0margs\u001b[0m\u001b[0;34m.\u001b[0m\u001b[0m__class__\u001b[0m \u001b[0;32mis\u001b[0m \u001b[0mtuple\u001b[0m \u001b[0;32melse\u001b[0m \u001b[0;34m(\u001b[0m\u001b[0margs\u001b[0m\u001b[0;34m,\u001b[0m\u001b[0;34m)\u001b[0m\u001b[0;34m\u001b[0m\u001b[0;34m\u001b[0m\u001b[0m\n",
      "\u001b[0;32m/opt/anaconda3/envs/watertap-seto-dev-env/lib/python3.10/site-packages/pyomo/core/base/indexed_component.py\u001b[0m in \u001b[0;36m__getitem__\u001b[0;34m(self, index)\u001b[0m\n\u001b[1;32m    528\u001b[0m         \u001b[0;32mreturn\u001b[0m \u001b[0mself\u001b[0m\u001b[0;34m.\u001b[0m\u001b[0mitems\u001b[0m\u001b[0;34m(\u001b[0m\u001b[0;34m)\u001b[0m\u001b[0;34m\u001b[0m\u001b[0;34m\u001b[0m\u001b[0m\n\u001b[1;32m    529\u001b[0m \u001b[0;34m\u001b[0m\u001b[0m\n\u001b[0;32m--> 530\u001b[0;31m     \u001b[0;32mdef\u001b[0m \u001b[0m__getitem__\u001b[0m\u001b[0;34m(\u001b[0m\u001b[0mself\u001b[0m\u001b[0;34m,\u001b[0m \u001b[0mindex\u001b[0m\u001b[0;34m)\u001b[0m\u001b[0;34m:\u001b[0m\u001b[0;34m\u001b[0m\u001b[0;34m\u001b[0m\u001b[0m\n\u001b[0m\u001b[1;32m    531\u001b[0m         \"\"\"\n\u001b[1;32m    532\u001b[0m         \u001b[0mThis\u001b[0m \u001b[0mmethod\u001b[0m \u001b[0mreturns\u001b[0m \u001b[0mthe\u001b[0m \u001b[0mdata\u001b[0m \u001b[0mcorresponding\u001b[0m \u001b[0mto\u001b[0m \u001b[0mthe\u001b[0m \u001b[0mgiven\u001b[0m \u001b[0mindex\u001b[0m\u001b[0;34m.\u001b[0m\u001b[0;34m\u001b[0m\u001b[0;34m\u001b[0m\u001b[0m\n",
      "\u001b[0;31mKeyboardInterrupt\u001b[0m: "
     ]
    }
   ],
   "source": [
    "mp = create_multiperiod_pv_battery_model(surrogate=PV_surrogate)"
   ]
  },
  {
   "cell_type": "code",
   "execution_count": null,
   "metadata": {
    "slideshow": {
     "slide_type": "subslide"
    }
   },
   "outputs": [],
   "source": [
    "results = solver.solve(mp)\n",
    "print_results(mp)"
   ]
  },
  {
   "cell_type": "code",
   "execution_count": null,
   "metadata": {
    "slideshow": {
     "slide_type": "fragment"
    }
   },
   "outputs": [],
   "source": [
    "print([value(mp.blocks[i].process.fs.battery.state_of_charge[0]) for i in range(24)])"
   ]
  },
  {
   "cell_type": "code",
   "execution_count": null,
   "metadata": {
    "slideshow": {
     "slide_type": "slide"
    }
   },
   "outputs": [],
   "source": [
    "from watertap_contrib.reflo.code_demos.util.visualize import *\n",
    "create_long_plot(mp)"
   ]
  },
  {
   "cell_type": "markdown",
   "metadata": {
    "slideshow": {
     "slide_type": "slide"
    }
   },
   "source": [
    "## Now let's optimize the battery\n",
    "\n",
    "#### Unfix \n",
    "* Battery Nameplate Power\n",
    "* Battery Nameplate Energy"
   ]
  },
  {
   "cell_type": "code",
   "execution_count": null,
   "metadata": {
    "slideshow": {
     "slide_type": "fragment"
    }
   },
   "outputs": [],
   "source": [
    "mp_optimized = optimize_multiperiod_pv_battery_model(surrogate=PV_surrogate)\n",
    "results = solver.solve(mp_optimized)\n",
    "print_results(mp_optimized)"
   ]
  },
  {
   "cell_type": "code",
   "execution_count": null,
   "metadata": {
    "slideshow": {
     "slide_type": "subslide"
    }
   },
   "outputs": [],
   "source": [
    "create_plot(mp_optimized)"
   ]
  },
  {
   "cell_type": "markdown",
   "metadata": {
    "slideshow": {
     "slide_type": "subslide"
    }
   },
   "source": [
    "### We can also run this simulation over longer timescales"
   ]
  },
  {
   "cell_type": "code",
   "execution_count": null,
   "metadata": {
    "slideshow": {
     "slide_type": "fragment"
    }
   },
   "outputs": [],
   "source": [
    "mp_week = create_multiperiod_pv_battery_model(n_time_points=24*7, surrogate=PV_surrogate)\n",
    "results = solver.solve(mp_week)\n",
    "print_results(mp_week)"
   ]
  },
  {
   "cell_type": "code",
   "execution_count": null,
   "metadata": {
    "slideshow": {
     "slide_type": "subslide"
    }
   },
   "outputs": [],
   "source": [
    "create_long_plot(mp_week)"
   ]
  }
 ],
 "metadata": {
  "kernelspec": {
   "display_name": "Python 3 (ipykernel)",
   "language": "python",
   "name": "python3"
  },
  "language_info": {
   "codemirror_mode": {
    "name": "ipython",
    "version": 3
   },
   "file_extension": ".py",
   "mimetype": "text/x-python",
   "name": "python",
   "nbconvert_exporter": "python",
   "pygments_lexer": "ipython3",
   "version": "3.10.4"
  },
  "rise": {
   "align": "center",
   "footer": "<h3>World!</h3>",
   "header": "<h1>Hello</h1>",
   "height": "90%",
   "scroll": true,
   "theme": "sans",
   "width": "90%"
  }
 },
 "nbformat": 4,
 "nbformat_minor": 2
}
