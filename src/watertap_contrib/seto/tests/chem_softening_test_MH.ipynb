{
 "cells": [
  {
   "cell_type": "code",
   "execution_count": 1,
   "metadata": {},
   "outputs": [],
   "source": [
    "from pyomo.environ import (\n",
    "    ConcreteModel,\n",
    "    Objective,\n",
    "    Expression,\n",
    "    value,\n",
    "    Var,\n",
    "    Param,\n",
    "    Constraint,\n",
    "    Set,\n",
    "    Var,\n",
    "    Block,\n",
    "    SolverFactory,\n",
    "    TransformationFactory,\n",
    "    assert_optimal_termination,\n",
    "    check_optimal_termination,\n",
    "    log,\n",
    "    log10,\n",
    "    units as pyunits,\n",
    ")\n",
    "\n",
    "from pyomo.network import Port\n",
    "from idaes.core import FlowsheetBlock\n",
    "from idaes.core.solvers.get_solver import get_solver\n",
    "\n",
    "from idaes.core.util.model_statistics import *\n",
    "from idaes.core.util.scaling import *\n",
    "\n",
    "from idaes.core import FlowsheetBlock, UnitModelCostingBlock\n",
    "\n",
    "from watertap.core.zero_order_costing import ZeroOrderCosting, _get_tech_parameters\n",
    "from watertap.core.util.infeasible import *\n",
    "from watertap.costing import WaterTAPCosting\n",
    "\n",
    "import json\n",
    "from os.path import join, dirname\n",
    "from math import floor, ceil\n",
    "\n",
    "import pytest\n",
    "\n",
    "from io import StringIO\n",
    "import numpy as np\n",
    "import pandas as pd\n",
    "import matplotlib.pyplot as plt\n",
    "\n",
    "from idaes.core.util.model_statistics import (\n",
    "    degrees_of_freedom,\n",
    "    number_variables,\n",
    "    number_total_constraints,\n",
    "    number_unused_variables,\n",
    ")\n",
    "\n",
    "from IPython.display import clear_output\n",
    "from copy import deepcopy\n",
    "from watertap.property_models.seawater_prop_pack import SeawaterParameterBlock\n",
    "from watertap.property_models.water_prop_pack import WaterParameterBlock\n",
    "from watertap_contrib.seto.costing import  SETOWaterTAPCosting #SETOZeroOrderCosting,\n",
    "\n",
    "from watertap_contrib.seto.costing import (\n",
    "    TreatmentCosting,\n",
    "    EnergyCosting,\n",
    "    SETOSystemCosting,\n",
    ")\n",
    "\n",
    "# from watertap_contrib.seto.solar_models.zero_order import PhotovoltaicZO\n",
    "# from watertap_contrib.seto.energy import solar_energy\n",
    "# from watertap_contrib.seto.core import SETODatabase, PySAMWaterTAP\n",
    "from watertap_contrib.seto.unit_models.chemical_softening_0D import ChemicalSoftening0D\n",
    "\n",
    "from watertap_contrib.seto.property_models.basic_water_properties import (\n",
    "    BasicWaterParameterBlock,\n",
    ")\n",
    "\n",
    "solver = get_solver()\n",
    "\n",
    "def get_ion_config(ions):\n",
    "    #neutral_solutes = [\"TSS\", \"TDS\", \"TOC\", \"NH3\", \"SiO2\"]\n",
    "    if not isinstance(ions, list):\n",
    "        ions = [ions]\n",
    "    #ions = ions + neutral_solutes\n",
    "\n",
    "    mw_data = {\n",
    "        \"Na_+\": 23e-3,\n",
    "        \"Ca_2+\": 40e-3,\n",
    "        \"Cl_-\": 35e-3,\n",
    "        \"Mg_2+\": 24e-3,\n",
    "        \"SO4_2-\": 96e-3,\n",
    "        \"NH3\": 17.03e-3,\n",
    "        \"SiO2\": 60.08e-3,\n",
    "        \"HCO3_-\": 61.02e-3,\n",
    "        \"Alkalinity_2-\": 31.01736e-3,\n",
    "        \"CO3_2-\": 60.01e-3,\n",
    "        \"CO2\": 44e-3,\n",
    "    }\n",
    "    charge_data = {\n",
    "        \"Na_+\": 1,\n",
    "        \"Ca_2+\": 2,\n",
    "        \"Cl_-\": -1,\n",
    "        \"Mg_2+\": 2,\n",
    "        \"SO4_2-\": -2,\n",
    "        \"HCO3_-\": -1,\n",
    "        \"CO3_2-\": -2,\n",
    "        \"Alkalinity_2-\": -2,\n",
    "    }\n",
    "    ion_config = {\n",
    "        \"solute_list\": [],\n",
    "        \"mw_data\": {\"H2O\": 18e-3},\n",
    "        \"mw_data\": {},\n",
    "        \"charge\": {},\n",
    "    }\n",
    "\n",
    "    for ion in ions:\n",
    "        ion_config[\"solute_list\"].append(ion)\n",
    "\n",
    "        if ion in charge_data.keys():\n",
    "            ion_config[\"charge\"][ion] = charge_data[ion]\n",
    "        if ion in mw_data.keys():\n",
    "            ion_config[\"mw_data\"][ion] = mw_data[ion]\n",
    "    return ion_config\n"
   ]
  },
  {
   "cell_type": "code",
   "execution_count": 2,
   "metadata": {},
   "outputs": [
    {
     "data": {
      "text/plain": [
       "{'solute_list': ['Ca_2+', 'Mg_2+', 'Alkalinity_2-', 'TSS'],\n",
       " 'mw_data': {'Ca_2+': 0.04, 'Mg_2+': 0.024, 'Alkalinity_2-': 0.03101736},\n",
       " 'charge': {'Ca_2+': 2, 'Mg_2+': 2, 'Alkalinity_2-': -2}}"
      ]
     },
     "execution_count": 2,
     "metadata": {},
     "output_type": "execute_result"
    }
   ],
   "source": [
    "component_list = [\"Ca_2+\",\"Mg_2+\",\"Alkalinity_2-\",\"TSS\"]\n",
    "input_config_dict = get_ion_config(component_list)\n",
    "input_config_dict"
   ]
  },
  {
   "cell_type": "code",
   "execution_count": 3,
   "metadata": {},
   "outputs": [],
   "source": [
    "ca_in = 0.075  * pyunits.kg / pyunits.m**3  # g/L = kg/m3\n",
    "mg_in = 0.0061 * pyunits.kg / pyunits.m**3  # g/L = kg/m3\n",
    "sio2_in = 0.054 * pyunits.kg / pyunits.m**3  # g/L = kg/m3\n",
    "alk_in = 0.196 * pyunits.kg / pyunits.m**3  # g/L = kg/m3\n",
    "TSS_in = 0.20 * pyunits.kg / pyunits.m**3  # g/L = kg/m3\n",
    "CO2_in  = 0.072*1.612 * pyunits.kg / pyunits.m**3 \n",
    "q_in = 50000 * pyunits.m**3 / pyunits.day  # m3/d\n",
    "rho = 1000 * pyunits.kg / pyunits.m**3\n",
    "\n",
    "pH_in = 7\n",
    "temp_in = 293.15  # K\n",
    "\n",
    "ca_mass_flow = pyunits.convert((ca_in * q_in), to_units=pyunits.kg / pyunits.s)()\n",
    "mg_mass_flow = pyunits.convert((mg_in * q_in), to_units=pyunits.kg / pyunits.s)()\n",
    "sio2_mass_flow = pyunits.convert((sio2_in * q_in), to_units=pyunits.kg / pyunits.s)()\n",
    "h2o_mass_flow = pyunits.convert((rho * q_in), to_units=pyunits.kg / pyunits.s)()\n",
    "\n"
   ]
  },
  {
   "cell_type": "code",
   "execution_count": 37,
   "metadata": {},
   "outputs": [
    {
     "name": "stdout",
     "output_type": "stream",
     "text": [
      "DOF = 17\n"
     ]
    }
   ],
   "source": [
    "m = ConcreteModel()\n",
    "m.fs = FlowsheetBlock(dynamic=False)\n",
    "# m.fs.properties = ChemSofteningParameterBlock(**input_config_dict)\n",
    "m.fs.properties =  BasicWaterParameterBlock(solute_list=component_list)\n",
    "\n",
    "m.fs.soft = soft = ChemicalSoftening0D(\n",
    "    property_package=m.fs.properties, silica_removal= False ,softening_procedure_type= 'single_stage_lime'\n",
    ")\n",
    "m.fs.properties.calculate_scaling_factors()\n",
    "prop_in = soft.properties_in[0]\n",
    "# prop_out = soft.properties_out[0]\n",
    "# prop_waste = soft.properties_waste[0]\n",
    "\n",
    "print(f\"DOF = {degrees_of_freedom(m)}\")\n"
   ]
  },
  {
   "cell_type": "code",
   "execution_count": 31,
   "metadata": {},
   "outputs": [],
   "source": [
    "# prop_in.flow_mass_comp[\"Ca_2+\"].fix(ca_mass_flow)\n",
    "# set_scaling_factor(prop_in.flow_mass_comp[\"Ca_2+\"], 100)\n",
    "# prop_in.flow_mass_comp[ \"Mg_2+\"].fix(mg_mass_flow)\n",
    "# set_scaling_factor(prop_in.flow_mass_comp[ \"Mg_2+\"], 100)\n",
    "# prop_in.flow_mass_comp[ \"SiO2\"].fix(sio2_mass_flow)\n",
    "# set_scaling_factor(prop_in.flow_mass_comp[ \"SiO2\"], 100)\n",
    "# prop_in.flow_mass_comp[\"H2O\"].fix(h2o_mass_flow)\n",
    "# set_scaling_factor(prop_in.flow_mass_comp[ \"H2O\"], 1e-2)\n",
    "\n",
    "# prop_out.flow_vol.fix(0.1*q_in)\n",
    "# prop_waste.flow_vol.fix(0.9*q_in)"
   ]
  },
  {
   "cell_type": "code",
   "execution_count": 40,
   "metadata": {},
   "outputs": [
    {
     "name": "stdout",
     "output_type": "stream",
     "text": [
      "2023-03-20 15:42:55 [INFO] idaes.init.fs.soft: Initialization Step 1a Complete.\n",
      "2023-03-20 15:42:56 [INFO] idaes.init.fs.soft.properties_out: State Released.\n",
      "2023-03-20 15:42:56 [INFO] idaes.init.fs.soft: Initialization Step 1b Complete.\n",
      "2023-03-20 15:42:56 [INFO] idaes.init.fs.soft.properties_waste: State Released.\n",
      "2023-03-20 15:42:56 [INFO] idaes.init.fs.soft: Initialization Step 1c Complete.\n",
      "2023-03-20 15:42:56 [INFO] idaes.init.fs.soft: Initialization Step 2 optimal - Optimal Solution Found.\n",
      "2023-03-20 15:42:56 [INFO] idaes.init.fs.soft.properties_in: State Released.\n",
      "2023-03-20 15:42:56 [INFO] idaes.init.fs.soft: Initialization Complete: optimal - Optimal Solution Found\n",
      "DOF = 0\n"
     ]
    }
   ],
   "source": [
    "prop_in.flow_vol.fix(q_in)\n",
    "\n",
    "prop_in.conc_mass_comp[\"Ca_2+\"].fix(ca_in)\n",
    "prop_in.conc_mass_comp[\"Mg_2+\"].fix(mg_in)\n",
    "# prop_in.conc_mass_comp[\"SiO2\"].fix(sio2_in)\n",
    "prop_in.conc_mass_comp[\"Alkalinity_2-\"].fix(alk_in)\n",
    "prop_in.conc_mass_comp[\"TSS\"].fix(TSS_in)\n",
    "\n",
    "set_scaling_factor(prop_in.flow_vol,100)\n",
    "set_scaling_factor(prop_in.conc_mass_comp[\"Ca_2+\"],100)\n",
    "set_scaling_factor(prop_in.conc_mass_comp[\"Mg_2+\"],100)\n",
    "# set_scaling_factor(prop_in.conc_mass_comp[\"SiO2\"],100)\n",
    "set_scaling_factor(prop_in.conc_mass_comp[\"Alkalinity_2-\"],100)\n",
    "set_scaling_factor(prop_in.conc_mass_comp[\"TSS\"],100)\n",
    "\n",
    "soft.ca_eff_target.fix()\n",
    "soft.mg_eff_target.fix()\n",
    "\n",
    "soft.no_of_mixer.fix(1)\n",
    "soft.no_of_floc.fix(2)\n",
    "soft.retention_time_mixer.fix(0.4)\n",
    "soft.retention_time_floc.fix(25)\n",
    "soft.retention_time_sed.fix(130)\n",
    "soft.retention_time_recarb.fix(20)\n",
    "soft.frac_vol_recovery.fix()\n",
    "soft.removal_efficiency.fix()\n",
    "soft.CO2_CaCO3.fix(CO2_in)\n",
    "soft.vel_gradient_mix.fix(300)\n",
    "soft.vel_gradient_floc.fix(50)\n",
    "# soft.excess_CaOH.fix(0)\n",
    "# m.fs.soft.MgCl2_dosing.fix()\n",
    "soft.initialize()\n",
    "\n",
    "print(f\"DOF = {degrees_of_freedom(m)}\")"
   ]
  },
  {
   "cell_type": "code",
   "execution_count": 41,
   "metadata": {},
   "outputs": [
    {
     "name": "stdout",
     "output_type": "stream",
     "text": [
      "2023-03-20 15:42:58 [WARNING] idaes.core.util.scaling: Missing scaling factor for fs.soft.properties_out[0.0].conc_mass_comp[Ca_2+]\n",
      "2023-03-20 15:42:58 [WARNING] idaes.core.util.scaling: Missing scaling factor for fs.soft.properties_out[0.0].conc_mass_comp[Mg_2+]\n",
      "2023-03-20 15:42:58 [WARNING] idaes.core.util.scaling: Missing scaling factor for fs.soft.properties_out[0.0].conc_mass_comp[Alkalinity_2-]\n",
      "2023-03-20 15:42:58 [WARNING] idaes.core.util.scaling: Missing scaling factor for fs.soft.properties_out[0.0].conc_mass_comp[TSS]\n",
      "2023-03-20 15:42:58 [WARNING] idaes.core.util.scaling: Missing scaling factor for fs.soft.properties_waste[0.0].conc_mass_comp[Ca_2+]\n",
      "2023-03-20 15:42:58 [WARNING] idaes.core.util.scaling: Missing scaling factor for fs.soft.properties_waste[0.0].conc_mass_comp[Mg_2+]\n",
      "2023-03-20 15:42:58 [WARNING] idaes.core.util.scaling: Missing scaling factor for fs.soft.properties_waste[0.0].conc_mass_comp[Alkalinity_2-]\n",
      "2023-03-20 15:42:58 [WARNING] idaes.core.util.scaling: Missing scaling factor for fs.soft.properties_waste[0.0].conc_mass_comp[TSS]\n"
     ]
    },
    {
     "data": {
      "text/plain": [
       "[<pyomo.core.base.var._GeneralVarData at 0x1e68a841700>,\n",
       " <pyomo.core.base.var._GeneralVarData at 0x1e68a841540>,\n",
       " <pyomo.core.base.var._GeneralVarData at 0x1e68a841d90>,\n",
       " <pyomo.core.base.var._GeneralVarData at 0x1e68a842260>,\n",
       " <pyomo.core.base.var._GeneralVarData at 0x1e68a841e70>,\n",
       " <pyomo.core.base.var._GeneralVarData at 0x1e68a842500>,\n",
       " <pyomo.core.base.var._GeneralVarData at 0x1e68a842570>,\n",
       " <pyomo.core.base.var._GeneralVarData at 0x1e68a8425e0>,\n",
       " <pyomo.core.base.var.ScalarVar at 0x1e68a843060>]"
      ]
     },
     "execution_count": 41,
     "metadata": {},
     "output_type": "execute_result"
    }
   ],
   "source": [
    "calculate_scaling_factors(m)\n",
    "list(unscaled_variables_generator(m))"
   ]
  },
  {
   "cell_type": "code",
   "execution_count": 22,
   "metadata": {},
   "outputs": [
    {
     "data": {
      "text/plain": [
       "5"
      ]
     },
     "execution_count": 22,
     "metadata": {},
     "output_type": "execute_result"
    }
   ],
   "source": [
    "number_unused_variables(m)"
   ]
  },
  {
   "cell_type": "code",
   "execution_count": 9,
   "metadata": {},
   "outputs": [],
   "source": [
    "print_infeasible_constraints(m)"
   ]
  },
  {
   "cell_type": "code",
   "execution_count": 10,
   "metadata": {},
   "outputs": [
    {
     "name": "stdout",
     "output_type": "stream",
     "text": [
      "0.0061\n",
      "0.004854368932038835\n",
      "49.80941747572762\n"
     ]
    }
   ],
   "source": [
    "print(prop_in.conc_mass_comp[\"Mg_2+\"].value)\n",
    "print(prop_out.conc_mass_comp[\"Mg_2+\"].value)\n",
    "print(prop_waste.conc_mass_comp[\"Mg_2+\"].value)"
   ]
  },
  {
   "cell_type": "code",
   "execution_count": 36,
   "metadata": {},
   "outputs": [
    {
     "data": {
      "text/plain": [
       "0.36094398148148144"
      ]
     },
     "execution_count": 36,
     "metadata": {},
     "output_type": "execute_result"
    }
   ],
   "source": [
    "soft.sludge_prod.value"
   ]
  },
  {
   "cell_type": "code",
   "execution_count": 6,
   "metadata": {},
   "outputs": [
    {
     "name": "stdout",
     "output_type": "stream",
     "text": [
      "2023-03-20 14:24:12 [WARNING] idaes.core.base.costing_base: fs.soft capital_cost component has a lower bound less than zero. Be aware that this may result in negative costs during optimization.\n",
      "2023-03-20 14:24:12 [WARNING] idaes.core.base.costing_base: fs.soft fixed_operating_cost component has a lower bound less than zero. Be aware that this may result in negative costs during optimization.\n"
     ]
    }
   ],
   "source": [
    "m.fs.costing = TreatmentCosting()\n",
    "soft.costing = UnitModelCostingBlock(flowsheet_costing_block = m.fs.costing)\n",
    "m.fs.costing.cost_process()\n",
    "m.fs.costing.add_LCOW(prop_in.flow_vol)\n"
   ]
  },
  {
   "cell_type": "code",
   "execution_count": 13,
   "metadata": {},
   "outputs": [
    {
     "name": "stdout",
     "output_type": "stream",
     "text": [
      "DOF = 0\n"
     ]
    }
   ],
   "source": [
    "print(f\"DOF = {degrees_of_freedom(m)}\")"
   ]
  },
  {
   "cell_type": "code",
   "execution_count": 7,
   "metadata": {},
   "outputs": [
    {
     "name": "stdout",
     "output_type": "stream",
     "text": [
      "DOF = 0\n",
      "OPTIMAL\n"
     ]
    }
   ],
   "source": [
    "results = solver.solve(m)\n",
    "\n",
    "print(f\"DOF = {degrees_of_freedom(m)}\")\n",
    "print(results.solver.termination_condition.swapcase())\n",
    "print_infeasible_constraints(m)\n"
   ]
  },
  {
   "cell_type": "code",
   "execution_count": 8,
   "metadata": {},
   "outputs": [
    {
     "data": {
      "text/plain": [
       "0.01663199999999998"
      ]
     },
     "execution_count": 8,
     "metadata": {},
     "output_type": "execute_result"
    }
   ],
   "source": [
    "m.fs.soft.Mg_hardness_nonCaCO3()"
   ]
  },
  {
   "cell_type": "code",
   "execution_count": 37,
   "metadata": {},
   "outputs": [
    {
     "name": "stdout",
     "output_type": "stream",
     "text": [
      "m**3/s\n"
     ]
    }
   ],
   "source": [
    "print(pyunits.get_units(prop_in.flow_vol))"
   ]
  },
  {
   "cell_type": "code",
   "execution_count": 8,
   "metadata": {},
   "outputs": [
    {
     "name": "stdout",
     "output_type": "stream",
     "text": [
      "13.888888888888886\n",
      "1736.1111111111106\n",
      "4513.888888888888\n",
      "694.4444444444443\n",
      "847.0\n"
     ]
    }
   ],
   "source": [
    "print(m.fs.soft.volume_mixer.value)\n",
    "print(m.fs.soft.volume_floc.value)\n",
    "print(m.fs.soft.volume_sed.value)\n",
    "print(m.fs.soft.volume_recarb.value)\n",
    "print(m.fs.soft.CO2_first_basin.value)"
   ]
  },
  {
   "cell_type": "code",
   "execution_count": 13,
   "metadata": {},
   "outputs": [
    {
     "data": {
      "text/plain": [
       "0.36094398148148144"
      ]
     },
     "execution_count": 13,
     "metadata": {},
     "output_type": "execute_result"
    }
   ],
   "source": [
    "(m.fs.soft.sludge_prod.value)"
   ]
  },
  {
   "cell_type": "code",
   "execution_count": 9,
   "metadata": {},
   "outputs": [
    {
     "name": "stdout",
     "output_type": "stream",
     "text": [
      "39803.320656448836\n",
      "526325.0016145604\n",
      "1062683.6511610087\n",
      "203901.92518795643\n",
      "206831.68693986651\n",
      "208934.44577817747\n",
      "287839.27983806236\n"
     ]
    }
   ],
   "source": [
    "print(m.fs.soft.costing.mix_tank_capital_cost.value)\n",
    "print(m.fs.soft.costing.floc_tank_capital_cost.value)\n",
    "print(m.fs.soft.costing.sed_basin_capital_cost.value)\n",
    "print(m.fs.soft.costing.recarb_basin_capital_cost.value)\n",
    "print(m.fs.soft.costing.recarb_basin_source_capital_cost.value)\n",
    "print(m.fs.soft.costing.lime_feed_system_capital_cost.value)\n",
    "print(m.fs.soft.costing.admin_capital_cost.value)\n",
    "# m.fs.soft.volume_floc.value"
   ]
  },
  {
   "cell_type": "code",
   "execution_count": 10,
   "metadata": {},
   "outputs": [
    {
     "name": "stdout",
     "output_type": "stream",
     "text": [
      "24168.658988826148\n",
      "24102.20176214742\n",
      "19100.27097544179\n",
      "20494.04621691925\n",
      "421787.0232411073\n",
      "439456.68954925315\n",
      "289576.0903340209\n"
     ]
    }
   ],
   "source": [
    "print(m.fs.soft.costing.mix_tank_op_cost.value)\n",
    "print(m.fs.soft.costing.floc_tank_op_cost.value)\n",
    "print(m.fs.soft.costing.sed_basin_op_cost.value)\n",
    "print(m.fs.soft.costing.recarb_basin_op_cost.value)\n",
    "print(m.fs.soft.costing.lime_feed_op_cost.value)\n",
    "print(m.fs.soft.costing.lime_sludge_mngt_op_cost.value)\n",
    "print(m.fs.soft.costing.admin_op_cost.value)"
   ]
  },
  {
   "cell_type": "code",
   "execution_count": 16,
   "metadata": {},
   "outputs": [
    {
     "name": "stdout",
     "output_type": "stream",
     "text": [
      "104.16666666666664\n"
     ]
    }
   ],
   "source": [
    "print(m.fs.soft.costing.floc_power.value)"
   ]
  },
  {
   "cell_type": "code",
   "execution_count": 20,
   "metadata": {},
   "outputs": [],
   "source": [
    "m.fs.objective = Objective(expr=m.fs.costing.LCOW)\n",
    "results = solver.solve(m)"
   ]
  },
  {
   "cell_type": "code",
   "execution_count": 21,
   "metadata": {},
   "outputs": [
    {
     "data": {
      "text/plain": [
       "0.8054329238702729"
      ]
     },
     "execution_count": 21,
     "metadata": {},
     "output_type": "execute_result"
    }
   ],
   "source": [
    "m.fs.costing.LCOW.value"
   ]
  },
  {
   "cell_type": "code",
   "execution_count": 22,
   "metadata": {},
   "outputs": [
    {
     "name": "stdout",
     "output_type": "stream",
     "text": [
      "{'SiO2': 0.7, 'Alkalinity_2-': 0.7}\n"
     ]
    }
   ],
   "source": [
    "# Creating removal dictionary\n",
    "\n",
    "removal_eff_dict = dict(\n",
    "            zip([\n",
    "                x for x in component_list if x not in [\"Ca_2+\",\"Mg_2+\"]\n",
    "                ]\n",
    "                ,\n",
    "                [   \n",
    "                    0.7 if j != \"TDS\" else 1e-3\n",
    "                    for j in component_list \n",
    "                ],\n",
    "            )\n",
    "        )\n",
    "\n",
    "print(removal_eff_dict)"
   ]
  },
  {
   "cell_type": "code",
   "execution_count": 23,
   "metadata": {},
   "outputs": [
    {
     "name": "stdout",
     "output_type": "stream",
     "text": [
      "['SiO2', 'Alkalinity_2-']\n"
     ]
    }
   ],
   "source": [
    "\n",
    "new_list = [x for x in component_list if x not in [\"Ca_2+\",\"Mg_2+\"]]\n",
    "print(new_list)"
   ]
  },
  {
   "cell_type": "code",
   "execution_count": null,
   "metadata": {},
   "outputs": [],
   "source": []
  }
 ],
 "metadata": {
  "kernelspec": {
   "display_name": "watertap-seto",
   "language": "python",
   "name": "python3"
  },
  "language_info": {
   "codemirror_mode": {
    "name": "ipython",
    "version": 3
   },
   "file_extension": ".py",
   "mimetype": "text/x-python",
   "name": "python",
   "nbconvert_exporter": "python",
   "pygments_lexer": "ipython3",
   "version": "3.10.9"
  },
  "orig_nbformat": 4,
  "vscode": {
   "interpreter": {
    "hash": "40fab0ed9c337b4fe69b575a70de2a80b87eca00f0404d6eeedca76291efab98"
   }
  }
 },
 "nbformat": 4,
 "nbformat_minor": 2
}
