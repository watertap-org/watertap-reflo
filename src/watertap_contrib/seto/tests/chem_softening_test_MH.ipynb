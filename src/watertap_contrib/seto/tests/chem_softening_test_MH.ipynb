{
 "cells": [
  {
   "cell_type": "code",
   "execution_count": 1,
   "metadata": {},
   "outputs": [],
   "source": [
    "from pyomo.environ import (\n",
    "    ConcreteModel,\n",
    "    Objective,\n",
    "    Expression,\n",
    "    value,\n",
    "    Var,\n",
    "    Param,\n",
    "    Constraint,\n",
    "    Set,\n",
    "    Var,\n",
    "    Block,\n",
    "    SolverFactory,\n",
    "    TransformationFactory,\n",
    "    assert_optimal_termination,\n",
    "    check_optimal_termination,\n",
    "    log,\n",
    "    log10,\n",
    "    units as pyunits,\n",
    ")\n",
    "\n",
    "from pyomo.network import Port\n",
    "from idaes.core import FlowsheetBlock\n",
    "from idaes.core.solvers.get_solver import get_solver\n",
    "\n",
    "from idaes.core.util.model_statistics import *\n",
    "from idaes.core.util.scaling import *\n",
    "\n",
    "from idaes.core import FlowsheetBlock, UnitModelCostingBlock\n",
    "\n",
    "from watertap.core.zero_order_costing import ZeroOrderCosting, _get_tech_parameters\n",
    "from watertap.core.util.infeasible import *\n",
    "from watertap.costing import WaterTAPCosting\n",
    "\n",
    "import json\n",
    "from os.path import join, dirname\n",
    "from math import floor, ceil\n",
    "\n",
    "import pytest\n",
    "\n",
    "from io import StringIO\n",
    "import numpy as np\n",
    "import pandas as pd\n",
    "import matplotlib.pyplot as plt\n",
    "\n",
    "\n",
    "from IPython.display import clear_output\n",
    "from copy import deepcopy\n",
    "from watertap.property_models.seawater_prop_pack import SeawaterParameterBlock\n",
    "from watertap.property_models.water_prop_pack import WaterParameterBlock\n",
    "from watertap_contrib.seto.costing import  SETOWaterTAPCosting #SETOZeroOrderCosting,\n",
    "\n",
    "from watertap_contrib.seto.costing import (\n",
    "    TreatmentCosting,\n",
    "    EnergyCosting,\n",
    "    SETOSystemCosting,\n",
    ")\n",
    "\n",
    "# from watertap_contrib.seto.solar_models.zero_order import PhotovoltaicZO\n",
    "# from watertap_contrib.seto.energy import solar_energy\n",
    "# from watertap_contrib.seto.core import SETODatabase, PySAMWaterTAP\n",
    "from watertap_contrib.seto.unit_models.chemical_softening_0D_MH import ChemicalSoftening0D\n",
    "\n",
    "from watertap_contrib.seto.property_models.basic_water_properties import (\n",
    "    BasicWaterParameterBlock,\n",
    ")\n",
    "\n",
    "solver = get_solver()\n",
    "\n",
    "def get_ion_config(ions):\n",
    "    #neutral_solutes = [\"TSS\", \"TDS\", \"TOC\", \"NH3\", \"SiO2\"]\n",
    "    if not isinstance(ions, list):\n",
    "        ions = [ions]\n",
    "    #ions = ions + neutral_solutes\n",
    "\n",
    "    mw_data = {\n",
    "        \"Na_+\": 23e-3,\n",
    "        \"Ca_2+\": 40e-3,\n",
    "        \"Cl_-\": 35e-3,\n",
    "        \"Mg_2+\": 24e-3,\n",
    "        \"SO4_2-\": 96e-3,\n",
    "        \"NH3\": 17.03e-3,\n",
    "        \"SiO2\": 60.08e-3,\n",
    "        \"HCO3_-\": 61.02e-3,\n",
    "        \"Alkalinity_2-\": 31.01736e-3,\n",
    "        \"CO3_2-\": 60.01e-3,\n",
    "        \"CO2\": 44e-3,\n",
    "    }\n",
    "    charge_data = {\n",
    "        \"Na_+\": 1,\n",
    "        \"Ca_2+\": 2,\n",
    "        \"Cl_-\": -1,\n",
    "        \"Mg_2+\": 2,\n",
    "        \"SO4_2-\": -2,\n",
    "        \"HCO3_-\": -1,\n",
    "        \"CO3_2-\": -2,\n",
    "        \"Alkalinity_2-\": -2,\n",
    "    }\n",
    "    ion_config = {\n",
    "        \"solute_list\": [],\n",
    "        \"mw_data\": {\"H2O\": 18e-3},\n",
    "        \"mw_data\": {},\n",
    "        \"charge\": {},\n",
    "    }\n",
    "\n",
    "    for ion in ions:\n",
    "        ion_config[\"solute_list\"].append(ion)\n",
    "\n",
    "        if ion in charge_data.keys():\n",
    "            ion_config[\"charge\"][ion] = charge_data[ion]\n",
    "        if ion in mw_data.keys():\n",
    "            ion_config[\"mw_data\"][ion] = mw_data[ion]\n",
    "    return ion_config\n"
   ]
  },
  {
   "cell_type": "code",
   "execution_count": 2,
   "metadata": {},
   "outputs": [
    {
     "data": {
      "text/plain": [
       "{'solute_list': ['Ca_2+', 'Mg_2+', 'Alkalinity_2-'],\n",
       " 'mw_data': {'Ca_2+': 0.04, 'Mg_2+': 0.024, 'Alkalinity_2-': 0.03101736},\n",
       " 'charge': {'Ca_2+': 2, 'Mg_2+': 2, 'Alkalinity_2-': -2}}"
      ]
     },
     "execution_count": 2,
     "metadata": {},
     "output_type": "execute_result"
    }
   ],
   "source": [
    "component_list = [\"Ca_2+\",\"Mg_2+\",\"Alkalinity_2-\"]\n",
    "input_config_dict = get_ion_config(component_list)\n",
    "input_config_dict"
   ]
  },
  {
   "cell_type": "code",
   "execution_count": 3,
   "metadata": {},
   "outputs": [],
   "source": [
    "ca_in = 0.075  * pyunits.kg / pyunits.m**3  # g/L = kg/m3\n",
    "mg_in = 0.0061 * pyunits.kg / pyunits.m**3  # g/L = kg/m3\n",
    "sio2_in = 0.054 * pyunits.kg / pyunits.m**3  # g/L = kg/m3\n",
    "alk_in = 0.196 * pyunits.kg / pyunits.m**3  # g/L = kg/m3\n",
    "TSS_in = 0 * pyunits.kg / pyunits.m**3  # g/L = kg/m3\n",
    "CO2_in  = 0.072*1.612 * pyunits.kg / pyunits.m**3 \n",
    "q_in = 50000 * pyunits.m**3 / pyunits.day  # m3/d\n",
    "rho = 1000 * pyunits.kg / pyunits.m**3\n",
    "\n",
    "pH_in = 7\n",
    "temp_in = 293.15  # K\n",
    "\n",
    "ca_mass_flow = pyunits.convert((ca_in * q_in), to_units=pyunits.kg / pyunits.s)()\n",
    "mg_mass_flow = pyunits.convert((mg_in * q_in), to_units=pyunits.kg / pyunits.s)()\n",
    "sio2_mass_flow = pyunits.convert((sio2_in * q_in), to_units=pyunits.kg / pyunits.s)()\n",
    "h2o_mass_flow = pyunits.convert((rho * q_in), to_units=pyunits.kg / pyunits.s)()\n",
    "\n"
   ]
  },
  {
   "cell_type": "code",
   "execution_count": 4,
   "metadata": {},
   "outputs": [
    {
     "name": "stdout",
     "output_type": "stream",
     "text": [
      "DOF = 15\n"
     ]
    }
   ],
   "source": [
    "m = ConcreteModel()\n",
    "m.fs = FlowsheetBlock(dynamic=False)\n",
    "# m.fs.properties = ChemSofteningParameterBlock(**input_config_dict)\n",
    "m.fs.properties =  BasicWaterParameterBlock(solute_list=component_list)\n",
    "\n",
    "m.fs.soft = soft = ChemicalSoftening0D(\n",
    "    property_package=m.fs.properties, silica_removal= False ,softening_procedure_type= 'single_stage_lime'\n",
    ")\n",
    "\n",
    "prop_in = soft.properties_in[0]\n",
    "prop_out = soft.properties_out[0]\n",
    "prop_waste = soft.properties_waste[0]\n",
    "\n",
    "print(f\"DOF = {degrees_of_freedom(m)}\")\n"
   ]
  },
  {
   "cell_type": "code",
   "execution_count": 5,
   "metadata": {},
   "outputs": [],
   "source": [
    "# prop_in.flow_mass_comp[\"Ca_2+\"].fix(ca_mass_flow)\n",
    "# set_scaling_factor(prop_in.flow_mass_comp[\"Ca_2+\"], 100)\n",
    "# prop_in.flow_mass_comp[ \"Mg_2+\"].fix(mg_mass_flow)\n",
    "# set_scaling_factor(prop_in.flow_mass_comp[ \"Mg_2+\"], 100)\n",
    "# prop_in.flow_mass_comp[ \"SiO2\"].fix(sio2_mass_flow)\n",
    "# set_scaling_factor(prop_in.flow_mass_comp[ \"SiO2\"], 100)\n",
    "# prop_in.flow_mass_comp[\"H2O\"].fix(h2o_mass_flow)\n",
    "# set_scaling_factor(prop_in.flow_mass_comp[ \"H2O\"], 1e-2)\n",
    "\n",
    "# prop_out.flow_vol.fix(0.1*q_in)\n",
    "# prop_waste.flow_vol.fix(0.9*q_in)"
   ]
  },
  {
   "cell_type": "code",
   "execution_count": 6,
   "metadata": {},
   "outputs": [
    {
     "name": "stdout",
     "output_type": "stream",
     "text": [
      "DOF = 0\n"
     ]
    }
   ],
   "source": [
    "prop_in.flow_vol.fix(q_in)\n",
    "\n",
    "prop_in.conc_mass_comp[\"Ca_2+\"].fix(ca_in)\n",
    "prop_in.conc_mass_comp[\"Mg_2+\"].fix(mg_in)\n",
    "# prop_in.conc_mass_comp[\"SiO2\"].fix(sio2_in)\n",
    "prop_in.conc_mass_comp[\"Alkalinity_2-\"].fix(alk_in)\n",
    "# prop_in.conc_mass_comp[\"TSS\"].fix(TSS_in)\n",
    "\n",
    "set_scaling_factor(prop_in.conc_mass_comp[\"Ca_2+\"],100)\n",
    "set_scaling_factor(prop_in.conc_mass_comp[\"Mg_2+\"],100)\n",
    "# set_scaling_factor(prop_in.conc_mass_comp[\"SiO2\"],100)\n",
    "set_scaling_factor(prop_in.conc_mass_comp[\"Alkalinity_2-\"],100)\n",
    "# set_scaling_factor(prop_in.conc_mass_comp[\"TSS\"],100)\n",
    "\n",
    "soft.no_of_mixer.fix(1)\n",
    "soft.no_of_floc.fix(2)\n",
    "soft.retention_time_mixer.fix(0.4)\n",
    "soft.retention_time_floc.fix(25)\n",
    "soft.retention_time_sed.fix(130)\n",
    "soft.retention_time_recarb.fix(20)\n",
    "soft.frac_vol_recovery.fix()\n",
    "soft.removal_efficiency.fix()\n",
    "soft.CO2_CaCO3.fix(CO2_in)\n",
    "soft.vel_gradient_mix.fix(300)\n",
    "soft.vel_gradient_floc.fix(50)\n",
    "# soft.initialize()\n",
    "\n",
    "print(f\"DOF = {degrees_of_freedom(m)}\")\n"
   ]
  },
  {
   "cell_type": "code",
   "execution_count": 7,
   "metadata": {},
   "outputs": [
    {
     "data": {
      "text/plain": [
       "0.5787037037037036"
      ]
     },
     "execution_count": 7,
     "metadata": {},
     "output_type": "execute_result"
    }
   ],
   "source": [
    "prop_in.flow_vol.value"
   ]
  },
  {
   "cell_type": "code",
   "execution_count": 8,
   "metadata": {},
   "outputs": [
    {
     "name": "stdout",
     "output_type": "stream",
     "text": [
      "0.1875\n",
      "0.008500000000000008\n"
     ]
    }
   ],
   "source": [
    "print(value(m.fs.soft.Ca_hardness_CaCO3))\n",
    "print(value(m.fs.soft.Mg_hardness_CaCO3))"
   ]
  },
  {
   "cell_type": "code",
   "execution_count": 9,
   "metadata": {},
   "outputs": [
    {
     "name": "stdout",
     "output_type": "stream",
     "text": [
      "2023-03-07 10:58:49 [WARNING] idaes.core.base.costing_base: fs.soft capital_cost component has a lower bound less than zero. Be aware that this may result in negative costs during optimization.\n",
      "2023-03-07 10:58:49 [WARNING] idaes.core.base.costing_base: fs.soft fixed_operating_cost component has a lower bound less than zero. Be aware that this may result in negative costs during optimization.\n"
     ]
    }
   ],
   "source": [
    "m.fs.costing = TreatmentCosting()\n",
    "soft.costing = UnitModelCostingBlock(flowsheet_costing_block = m.fs.costing)\n",
    "m.fs.costing.cost_process()\n",
    "m.fs.costing.add_LCOW(prop_in.flow_vol)\n"
   ]
  },
  {
   "cell_type": "code",
   "execution_count": 10,
   "metadata": {},
   "outputs": [
    {
     "name": "stdout",
     "output_type": "stream",
     "text": [
      "DOF = 0\n"
     ]
    }
   ],
   "source": [
    "print(f\"DOF = {degrees_of_freedom(m)}\")"
   ]
  },
  {
   "cell_type": "code",
   "execution_count": 11,
   "metadata": {},
   "outputs": [
    {
     "name": "stdout",
     "output_type": "stream",
     "text": [
      "WARNING: The current pynumero_ASL library is version=3, but found version=1.\n",
      "    Please recompile / update your pynumero_ASL library.\n",
      "DOF = 0\n",
      "OPTIMAL\n"
     ]
    }
   ],
   "source": [
    "results = solver.solve(m)\n",
    "\n",
    "print(f\"DOF = {degrees_of_freedom(m)}\")\n",
    "print(results.solver.termination_condition.swapcase())\n",
    "print_infeasible_constraints(m)\n"
   ]
  },
  {
   "cell_type": "code",
   "execution_count": 12,
   "metadata": {},
   "outputs": [
    {
     "data": {
      "text/plain": [
       "8499.792"
      ]
     },
     "execution_count": 12,
     "metadata": {},
     "output_type": "execute_result"
    }
   ],
   "source": [
    "m.fs.soft.CaOH_dosing.value"
   ]
  },
  {
   "cell_type": "code",
   "execution_count": 13,
   "metadata": {},
   "outputs": [
    {
     "data": {
      "text/plain": [
       "0.5787037037037036"
      ]
     },
     "execution_count": 13,
     "metadata": {},
     "output_type": "execute_result"
    }
   ],
   "source": [
    "prop_in.flow_vol.value"
   ]
  },
  {
   "cell_type": "code",
   "execution_count": 14,
   "metadata": {},
   "outputs": [
    {
     "name": "stdout",
     "output_type": "stream",
     "text": [
      "13.888888888888886\n",
      "1736.1111111111106\n",
      "4513.888888888888\n",
      "694.4444444444443\n",
      "687.0000000000018\n"
     ]
    }
   ],
   "source": [
    "print(m.fs.soft.volume_mixer.value)\n",
    "print(m.fs.soft.volume_floc.value)\n",
    "print(m.fs.soft.volume_sed.value)\n",
    "print(m.fs.soft.volume_recarb.value)\n",
    "print(m.fs.soft.CO2_first_basin.value)"
   ]
  },
  {
   "cell_type": "code",
   "execution_count": 15,
   "metadata": {},
   "outputs": [
    {
     "name": "stdout",
     "output_type": "stream",
     "text": [
      "39803.320656448865\n",
      "526325.0016145603\n",
      "1062683.6511610087\n",
      "203901.92518795643\n",
      "193005.6663696979\n",
      "208934.44577817744\n"
     ]
    }
   ],
   "source": [
    "print(m.fs.soft.costing.mix_tank_capital_cost.value)\n",
    "print(m.fs.soft.costing.floc_tank_capital_cost.value)\n",
    "print(m.fs.soft.costing.sed_basin_capital_cost.value)\n",
    "print(m.fs.soft.costing.recarb_basin_capital_cost.value)\n",
    "print(m.fs.soft.costing.recarb_basin_source_capital_cost.value)\n",
    "print(m.fs.soft.costing.lime_feed_system_capital_cost.value)\n",
    "# m.fs.soft.volume_floc.value"
   ]
  },
  {
   "cell_type": "code",
   "execution_count": 16,
   "metadata": {},
   "outputs": [],
   "source": [
    "m.fs.objective = Objective(expr=m.fs.costing.LCOW)\n",
    "results = solver.solve(m)"
   ]
  },
  {
   "cell_type": "code",
   "execution_count": 17,
   "metadata": {},
   "outputs": [
    {
     "data": {
      "text/plain": [
       "0.060211680570737114"
      ]
     },
     "execution_count": 17,
     "metadata": {},
     "output_type": "execute_result"
    }
   ],
   "source": [
    "m.fs.costing.LCOW.value"
   ]
  },
  {
   "cell_type": "code",
   "execution_count": null,
   "metadata": {},
   "outputs": [],
   "source": []
  }
 ],
 "metadata": {
  "kernelspec": {
   "display_name": "watertap-seto",
   "language": "python",
   "name": "python3"
  },
  "language_info": {
   "codemirror_mode": {
    "name": "ipython",
    "version": 3
   },
   "file_extension": ".py",
   "mimetype": "text/x-python",
   "name": "python",
   "nbconvert_exporter": "python",
   "pygments_lexer": "ipython3",
   "version": "3.10.9"
  },
  "orig_nbformat": 4,
  "vscode": {
   "interpreter": {
    "hash": "40fab0ed9c337b4fe69b575a70de2a80b87eca00f0404d6eeedca76291efab98"
   }
  }
 },
 "nbformat": 4,
 "nbformat_minor": 2
}
